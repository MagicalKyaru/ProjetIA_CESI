{
 "cells": [
  {
   "cell_type": "code",
   "execution_count": null,
   "metadata": {
    "collapsed": true
   },
   "outputs": [],
   "source": [
    "# SMOTE\n",
    "from imblearn.over_sampling import SMOTENC\n",
    "sm = SMOTENC(categorical_features=[0,1,3,4,5,6,17,18,19,20,21], random_state=42)\n",
    "X_res, y_res = sm.fit_resample(X_train, y_train)\n",
    "X_res_test = X_test.copy()\n",
    "y_res_test = y_test.copy()\n",
    "# Get percentage of 1 in y_res\n",
    "print(\"Percentage of 'Yes' in y_res: \", np.sum(y_res == 1) / len(y_res))\n",
    "# Round synth values to integer in X_res\n",
    "discrete_columns = [8,10,11,12,13,14,15]\n",
    "#for col in discrete_columns:\n",
    "#X_res.iloc[:,col] = np.round(X_res.iloc[:,col])\n",
    "X_res"
   ]
  },
  {
   "cell_type": "code",
   "execution_count": null,
   "outputs": [],
   "source": [
    "# Do a triangle correlation so we do not have duplicates\n",
    "corr = X_res.corr()\n",
    "triangle_mask = np.triu(np.ones_like(corr, dtype=bool))\n",
    "# Get the correlation values\n",
    "new_correlation = corr.mask(triangle_mask).stack().reset_index()\n",
    "# Rename the columns\n",
    "new_correlation.columns = ['Variable 1', 'Variable 2', 'Taux de correlation']\n",
    "# Drop NA Corr if there are\n",
    "new_correlation.dropna(subset = [\"Taux de correlation\"], inplace=True)\n",
    "# Drop the rows where the correlation is 1 (because it means the variable is correlated with itself)\n",
    "# Round up the values and set them to absolute\n",
    "new_correlation['Taux de correlation'] = new_correlation['Taux de correlation'].round(2)\n",
    "new_correlation['Taux de correlation'] = new_correlation['Taux de correlation'].abs()\n",
    "# Sort the correlations by descending order\n",
    "new_correlation.sort_values(by='Taux de correlation', ascending=False, inplace=True)\n",
    "\n",
    "# Get the list of unique variables sin the \"Variable 2\" column where correlation >= 0.5\n",
    "unique_variables = new_correlation[new_correlation['Taux de correlation'] >= 0.5]['Variable 2'].unique()\n",
    "#X_train\n",
    "X_res = X_res.drop(columns=unique_variables)\n",
    "X_res_test = X_res_test.drop(columns=unique_variables)"
   ],
   "metadata": {
    "collapsed": false
   }
  },
  {
   "cell_type": "code",
   "execution_count": null,
   "outputs": [],
   "source": [
    "# Transform all object columns to category\n",
    "for col in X_res.select_dtypes(include=['object']).columns:\n",
    "    X_res[col] = X_res[col].astype('category')\n",
    "    X_res_test[col] = X_res_test[col].astype('category')\n",
    "\n",
    "# Retrain the model\n",
    "xgb_smotenc = XGBClassifier(n_estimators=900, enable_categorical=True, tree_method=\"gpu_hist\")\n",
    "eval_set_smotenc = [(X_res, y_res), (X_res_test, y_res_test)]\n",
    "eval_metric = [\"auc\",\"error\"]\n",
    "xgb_smotenc.fit(X_res, y_res, eval_metric=eval_metric, eval_set=eval_set_smotenc)\n",
    "xgb_smotenc_pred = xgb_smotenc.predict(X_res)\n",
    "\n",
    "# Plot error\n",
    "results = xgb_smotenc.evals_result()\n",
    "epochs = len(results['validation_0']['error'])\n",
    "x_axis = range(0, epochs)\n",
    "fig, ax = plt.subplots()\n",
    "ax.plot(x_axis, results['validation_0']['error'], label='Train')\n",
    "ax.plot(x_axis, results['validation_1']['error'], label='Test')\n",
    "ax.legend()\n",
    "plt.ylabel('error')\n",
    "plt.title('Model Classification Error')\n",
    "plt.show()"
   ],
   "metadata": {
    "collapsed": false
   }
  },
  {
   "cell_type": "code",
   "execution_count": null,
   "outputs": [],
   "source": [
    "#ROC Curve\n",
    "from sklearn.metrics import roc_curve\n",
    "from sklearn.metrics import roc_auc_score\n",
    "from matplotlib import pyplot\n",
    "# generate a no skill prediction (majority class)\n",
    "ns_probs = [0 for _ in range(len(y_res_test))]\n",
    "# predict probabilities\n",
    "xgb_probs = xgb_smotenc.predict_proba(X_res_test)\n",
    "# keep probabilities for the positive outcome only\n",
    "xgb_probs = xgb_probs[:, 1]\n",
    "# calculate scores\n",
    "ns_auc = roc_auc_score(y_res_test, ns_probs)\n",
    "xgb_auc = roc_auc_score(y_res_test, xgb_probs)\n",
    "# summarize scores\n",
    "print('No Skill: ROC AUC=%.3f' % (ns_auc))\n",
    "print('XGB: ROC AUC=%.3f' % (xgb_auc))\n",
    "# calculate roc curves\n",
    "ns_fpr, ns_tpr, _ = roc_curve(y_res_test, ns_probs)\n",
    "xgb_fpr, xgb_tpr, _ = roc_curve(y_res_test, xgb_probs)\n",
    "# plot the roc curve for the model\n",
    "pyplot.plot(ns_fpr, ns_tpr, linestyle='--', label='No Skill')\n",
    "pyplot.plot(xgb_fpr, xgb_tpr, marker='.', label='XGB')\n",
    "# axis labels\n",
    "pyplot.xlabel('False Positive Rate')\n",
    "pyplot.ylabel('True Positive Rate')\n",
    "# show the legend\n",
    "pyplot.legend()\n",
    "# show the plot\n",
    "pyplot.show()"
   ],
   "metadata": {
    "collapsed": false
   }
  }
 ],
 "metadata": {
  "kernelspec": {
   "display_name": "Python 3",
   "language": "python",
   "name": "python3"
  },
  "language_info": {
   "codemirror_mode": {
    "name": "ipython",
    "version": 2
   },
   "file_extension": ".py",
   "mimetype": "text/x-python",
   "name": "python",
   "nbconvert_exporter": "python",
   "pygments_lexer": "ipython2",
   "version": "2.7.6"
  }
 },
 "nbformat": 4,
 "nbformat_minor": 0
}
