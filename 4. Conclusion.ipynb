{
 "cells": [
  {
   "cell_type": "markdown",
   "source": [
    "# 5.0 Conclusion\n",
    "\n",
    "Nous avons commencé par réaliser une analyse visuelle des données à l'aide de graphes. Nous avons pu en conclure que certains critères, comme une faible satisfaction au travail, une faible satisfaction de l'environnement, et un faible salaire pour beaucoup d'heures travaillées, semblaient favoriser le départ des employés de l'entreprise. Nous avons également remarqué que les employés qui travaillent dans le domaine des ressources humaines ont tendance à quitter l'entreprise.\n",
    "Ensuite, nous avons réalisé nos modèles de machine learning : un modèle de régression logistique, un perceptron et deux modèles de classifieurs avec renforcement de gradient. Ces modèles nous ont permi d'obtenir des résultats plus concrets et précis quant aux critères les plus importants pour expliquer le fort taux de démission dans l'entreprise. Nous avons ainsi découvert que le salaire mensuel, la distance entre le domicile et le travail, le nombre moyen d'heures travaillées, la faible satisfaction dans le travail, et un mauvais équilibre vie/privée travail étaient les critères les plus importants.\n",
    "Ces résultats vont permettre à l'entreprise de prendre des mesures pour d'améliorer ces points et tenter de fidéliser au mieux ses employés.\n",
    "\n",
    "Cependant, ces résultats ne sont pas forcément à prendre comme vérité absolue mais doivent servir d'indicateurs. Nous recommandons à l'entreprise de prendre en compte le ressenti ou les revendications des employés, en réalisant des enquêtes plus poussées sur la qualité de vie au travail des employés, ou de discuter avec les employés qui souhaitent partir des raisons de leur choix, afin d'essayer d'améliorer leur vie professionnelle."
   ],
   "metadata": {
    "collapsed": false
   }
  }
 ],
 "metadata": {
  "kernelspec": {
   "display_name": "Python 3",
   "language": "python",
   "name": "python3"
  },
  "language_info": {
   "codemirror_mode": {
    "name": "ipython",
    "version": 2
   },
   "file_extension": ".py",
   "mimetype": "text/x-python",
   "name": "python",
   "nbconvert_exporter": "python",
   "pygments_lexer": "ipython2",
   "version": "2.7.6"
  }
 },
 "nbformat": 4,
 "nbformat_minor": 0
}
