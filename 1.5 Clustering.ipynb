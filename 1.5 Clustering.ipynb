{
 "cells": [
  {
   "cell_type": "markdown",
   "source": [
    "# Etape 1.5 : Essais de clustering"
   ],
   "metadata": {
    "collapsed": false
   }
  },
  {
   "cell_type": "markdown",
   "source": [
    "## Ces essais n'étaient pas concluant mais maritent tout de même d'être notés."
   ],
   "metadata": {
    "collapsed": false
   }
  },
  {
   "cell_type": "markdown",
   "source": [
    "Import des librairies"
   ],
   "metadata": {
    "collapsed": false
   }
  },
  {
   "cell_type": "code",
   "execution_count": null,
   "outputs": [],
   "source": [
    "import pandas as pd, matplotlib.pyplot as plt, numpy as np, seaborn as sns, prince\n",
    "from sklearn.decomposition import PCA\n",
    "from sklearn.manifold import TSNE\n",
    "import umap.umap_ as umap"
   ],
   "metadata": {
    "collapsed": false
   }
  },
  {
   "cell_type": "markdown",
   "source": [
    "Import du dataset"
   ],
   "metadata": {
    "collapsed": false
   }
  },
  {
   "cell_type": "code",
   "execution_count": null,
   "outputs": [],
   "source": [
    "dataset = pd.read_csv('./Datasets/complete_dataset_one_hot_with_scaling.pkl')"
   ],
   "metadata": {
    "collapsed": false
   }
  },
  {
   "cell_type": "markdown",
   "source": [
    "## PCA"
   ],
   "metadata": {
    "collapsed": false
   }
  },
  {
   "cell_type": "code",
   "execution_count": null,
   "outputs": [],
   "source": [
    "pca = PCA(n_components=2)\n",
    "principalComponents = pca.fit_transform(dataset.drop('Attrition', axis=1))\n",
    "principalDf = pd.DataFrame(data = principalComponents, columns = ['principal component 1', 'principal component 2'])\n",
    "finalDf = pd.concat([principalDf, dataset[['Attrition']]], axis = 1)\n",
    "print('Explained variation per principal component: {}'.format(pca.explained_variance_ratio_))"
   ],
   "metadata": {
    "collapsed": false
   }
  },
  {
   "cell_type": "code",
   "execution_count": null,
   "outputs": [],
   "source": [
    "# Visualisation des données\n",
    "sns.set_style('whitegrid')\n",
    "sns.lmplot(x = 'principal component 1',y = 'principal component 2', data=finalDf, hue='Attrition', fit_reg=False, height=6, aspect=1.5)\n",
    "plt.show()"
   ],
   "metadata": {
    "collapsed": false
   }
  },
  {
   "cell_type": "markdown",
   "source": [
    "## t-SNE"
   ],
   "metadata": {
    "collapsed": false
   }
  },
  {
   "cell_type": "code",
   "execution_count": null,
   "outputs": [],
   "source": [
    "tsne = TSNE(n_components=2, verbose=1, perplexity=40, n_iter=300)\n",
    "tsne_results = tsne.fit_transform(dataset.drop('Attrition', axis=1))\n",
    "tsneDf = pd.DataFrame(data = tsne_results, columns = ['tsne component 1', 'tsne component 2'])\n",
    "finalDf = pd.concat([tsneDf, dataset[['Attrition']]], axis = 1)"
   ],
   "metadata": {
    "collapsed": false
   }
  },
  {
   "cell_type": "code",
   "execution_count": null,
   "outputs": [],
   "source": [
    "# Visualisation des données\n",
    "sns.set_style('whitegrid')\n",
    "sns.lmplot(x='tsne component 1', y='tsne component 2', data=finalDf, hue='Attrition', fit_reg=False, height=6,\n",
    "           aspect=1.5)\n",
    "plt.show()"
   ],
   "metadata": {
    "collapsed": false
   }
  },
  {
   "cell_type": "markdown",
   "source": [
    "Essayons sans les valeurs catégoriques"
   ],
   "metadata": {
    "collapsed": false
   }
  },
  {
   "cell_type": "code",
   "execution_count": null,
   "outputs": [],
   "source": [],
   "metadata": {
    "collapsed": false
   }
  },
  {
   "cell_type": "code",
   "execution_count": null,
   "outputs": [],
   "source": [],
   "metadata": {
    "collapsed": false
   }
  },
  {
   "cell_type": "markdown",
   "source": [
    "## UMAP"
   ],
   "metadata": {
    "collapsed": false
   }
  },
  {
   "cell_type": "code",
   "execution_count": null,
   "outputs": [],
   "source": [
    "reducer = umap.UMAP()\n",
    "umap_results = reducer.fit_transform(dataset.drop('Attrition', axis=1))\n",
    "umapDf = pd.DataFrame(data = umap_results, columns = ['umap component 1', 'umap component 2'])\n",
    "finalDf = pd.concat([umapDf, dataset[['Attrition']]], axis = 1)"
   ],
   "metadata": {
    "collapsed": false
   }
  },
  {
   "cell_type": "code",
   "execution_count": null,
   "outputs": [],
   "source": [
    "# Visualisation des données\n",
    "sns.set_style('whitegrid')\n",
    "sns.lmplot(x = 'umap component 1',y = 'umap component 2', data=finalDf, hue='Attrition', fit_reg=False, height=6, aspect=1.5)\n",
    "plt.show()"
   ],
   "metadata": {
    "collapsed": false
   }
  },
  {
   "cell_type": "markdown",
   "source": [
    "## Choix du bon clustering : MCA"
   ],
   "metadata": {
    "collapsed": false
   }
  },
  {
   "cell_type": "markdown",
   "source": [
    "https://maxhalford.github.io/prince/mca/\n"
   ],
   "metadata": {
    "collapsed": false
   }
  },
  {
   "cell_type": "code",
   "execution_count": null,
   "outputs": [],
   "source": [
    "dataset = pd.read_csv('./Datasets/complete_dataset_with_scaling.pkl')\n",
    "# drop attrition\n",
    "dataset = dataset.drop('Attrition', axis=1)\n",
    "dataset.columns = ['BusinessTravel', 'Department', 'DistanceFromHome',\n",
    "                   'Education', 'EducationField', 'JobLevel', 'JobRole', 'MonthlyIncome',\n",
    "                   'NumCompaniesWorked', 'PercentSalaryHike', 'StockOptionLevel',\n",
    "                   'TotalWorkingYears', 'TrainingTimesLastYear', 'YearsAtCompany',\n",
    "                   'YearsSinceLastPromotion', 'YearsWithCurrManager', 'hrs',\n",
    "                   'JobInvolvement', 'PerformanceRating', 'EnvironmentSatisfaction',\n",
    "                   'JobSatisfaction', 'WorkLifeBalance']\n",
    "\n",
    "# Récupération des colonnes catégorielles (sauf \"Attrition\")\n",
    "cat_cols = dataset.select_dtypes(exclude=['int64', 'float64']).columns\n",
    "# Génération des colonnes one-hot encoding\n",
    "dummy_df = pd.get_dummies(dataset[cat_cols], drop_first=True)\n",
    "# Concaténation des colonnes one-hot encoding avec le dataset complet\n",
    "dataset = pd.concat([dataset, dummy_df], axis=1)\n",
    "# Suppression des colonnes catégorielles (sauf \"Attrition\")\n",
    "dataset.drop(columns=cat_cols, inplace=True)\n",
    "\n",
    "mca = prince.MCA(\n",
    "    n_components=3,\n",
    "    n_iter=3,\n",
    "    copy=True,\n",
    "    check_input=True,\n",
    "    engine='sklearn',\n",
    "    random_state=42\n",
    ")\n",
    "mca = mca.fit(dataset)\n",
    "\n",
    "mca.eigenvalues_summary"
   ],
   "metadata": {
    "collapsed": false
   }
  },
  {
   "cell_type": "code",
   "execution_count": null,
   "outputs": [],
   "source": [
    "mca.row_coordinates(dataset).head()"
   ],
   "metadata": {
    "collapsed": false
   }
  },
  {
   "cell_type": "code",
   "execution_count": null,
   "outputs": [],
   "source": [
    "mca.column_coordinates(dataset).head()"
   ],
   "metadata": {
    "collapsed": false
   }
  },
  {
   "cell_type": "code",
   "execution_count": null,
   "outputs": [],
   "source": [
    "mca.plot(\n",
    "    dataset,\n",
    "    x_component=0,\n",
    "    y_component=1\n",
    ")"
   ],
   "metadata": {
    "collapsed": false
   }
  },
  {
   "cell_type": "code",
   "execution_count": null,
   "outputs": [],
   "source": [
    "mca.row_contributions_.head().style.format('{:.0%}')"
   ],
   "metadata": {
    "collapsed": false
   }
  },
  {
   "cell_type": "code",
   "execution_count": null,
   "outputs": [],
   "source": [
    "mca.column_contributions_.head().style.format('{:.0%}')"
   ],
   "metadata": {
    "collapsed": false
   }
  }
 ],
 "metadata": {
  "kernelspec": {
   "display_name": "Python 3",
   "language": "python",
   "name": "python3"
  },
  "language_info": {
   "codemirror_mode": {
    "name": "ipython",
    "version": 2
   },
   "file_extension": ".py",
   "mimetype": "text/x-python",
   "name": "python",
   "nbconvert_exporter": "python",
   "pygments_lexer": "ipython2",
   "version": "2.7.6"
  }
 },
 "nbformat": 4,
 "nbformat_minor": 0
}
