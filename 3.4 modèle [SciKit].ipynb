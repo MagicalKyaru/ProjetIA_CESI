{
 "cells": [
  {
   "cell_type": "markdown",
   "source": [
    "# 3.1 Modèle sous SciKit"
   ],
   "metadata": {
    "collapsed": false
   }
  },
  {
   "cell_type": "markdown",
   "source": [
    "## Préparation\n",
    "  - Importation des librairies\n",
    "  - Importation du dataset"
   ],
   "metadata": {
    "collapsed": false
   }
  },
  {
   "cell_type": "code",
   "execution_count": 1,
   "outputs": [],
   "source": [
    "#Importation des librairies\n",
    "import pandas as pd, numpy as np, matplotlib.pyplot as plt"
   ],
   "metadata": {
    "collapsed": false
   }
  },
  {
   "cell_type": "code",
   "execution_count": 2,
   "outputs": [
    {
     "data": {
      "text/plain": "      Attrition     BusinessTravel              Department  DistanceFromHome  \\\n0             0      Travel_Rarely                   Sales         -0.393608   \n1             1  Travel_Frequently  Research & Development          0.100215   \n2             0  Travel_Frequently  Research & Development          0.964405   \n3             0         Non-Travel  Research & Development         -0.887430   \n4             0      Travel_Rarely  Research & Development          0.100215   \n...         ...                ...                     ...               ...   \n4404          0      Travel_Rarely                   Sales         -0.640519   \n4405          0      Travel_Rarely  Research & Development         -0.517063   \n4406          0      Travel_Rarely  Research & Development         -0.887430   \n4407          0      Travel_Rarely  Research & Development          1.952050   \n4408          0      Travel_Rarely                   Sales          1.087860   \n\n     Education EducationField JobLevel                    JobRole  \\\n0        BAC+2  Life Sciences        1  Healthcare Representative   \n1          BAC  Life Sciences        1         Research Scientist   \n2        BAC+5          Other        4            Sales Executive   \n3     Doctorat  Life Sciences        3            Human Resources   \n4          BAC        Medical        1            Sales Executive   \n...        ...            ...      ...                        ...   \n4404     BAC+3          Other        2            Human Resources   \n4405     BAC+5        Medical        1         Research Scientist   \n4406     BAC+5        Medical        1      Laboratory Technician   \n4407     BAC+2  Life Sciences        2            Sales Executive   \n4408     BAC+2        Medical        1      Laboratory Technician   \n\n      MonthlyIncome  NumCompaniesWorked  ...  TrainingTimesLastYear  \\\n0          1.404934           -0.678721  ...               2.485416   \n1         -0.491658           -1.079751  ...               0.156362   \n2          2.724709           -0.678721  ...              -0.619989   \n3          0.386209            0.123338  ...               1.709065   \n4         -0.884064            0.524367  ...              -0.619989   \n...             ...                 ...  ...                    ...   \n4404      -0.629754           -0.678721  ...              -0.619989   \n4405      -0.100739            0.123338  ...               1.709065   \n4406      -0.812466           -0.277692  ...              -0.619989   \n4407      -0.595124           -1.079751  ...               0.932714   \n4408      -0.872166           -1.079751  ...              -0.619989   \n\n      YearsAtCompany  YearsSinceLastPromotion  YearsWithCurrManager       hrs  \\\n0          -0.980966                -0.679016             -1.155739  0.001133   \n1          -0.327532                -0.368619             -0.034213 -0.374512   \n2          -0.327532                -0.679016             -0.314594 -0.394701   \n3           0.162543                 1.493766              0.246168  0.423143   \n4          -0.164174                -0.679016             -0.034213  2.225312   \n...              ...                      ...                   ...       ...   \n4404       -0.164174                -0.368619              0.246168  0.753301   \n4405       -0.654249                -0.679016             -0.594976 -1.065012   \n4406       -0.654249                -0.679016             -0.594976 -0.123943   \n4407       -0.490890                -0.368619             -0.594976  1.407586   \n4408        0.325902                 1.493766              1.087313 -0.603172   \n\n      JobInvolvement     PerformanceRating  EnvironmentSatisfaction  \\\n0         Importante             Excellent                    Élevé   \n1            Moyenne  Au delà des attentes                    Élevé   \n2         Importante             Excellent                    Moyen   \n3            Moyenne             Excellent               Très élevé   \n4         Importante             Excellent               Très élevé   \n...              ...                   ...                      ...   \n4404         Moyenne             Excellent                    Élevé   \n4405      Importante             Excellent               Très élevé   \n4406         Moyenne             Excellent               Très élevé   \n4407      Importante  Au delà des attentes                   Faible   \n4408         Moyenne             Excellent               Très élevé   \n\n     JobSatisfaction    WorkLifeBalance  \n0         Très élevé       Satisfaisant  \n1              Moyen          Excellent  \n2              Moyen            Mauvais  \n3         Très élevé  Très satisfaisant  \n4             Faible  Très satisfaisant  \n...              ...                ...  \n4404      Très élevé  Très satisfaisant  \n4405          Faible  Très satisfaisant  \n4406      Très élevé  Très satisfaisant  \n4407           Élevé  Très satisfaisant  \n4408          Faible  Très satisfaisant  \n\n[4409 rows x 23 columns]",
      "text/html": "<div>\n<style scoped>\n    .dataframe tbody tr th:only-of-type {\n        vertical-align: middle;\n    }\n\n    .dataframe tbody tr th {\n        vertical-align: top;\n    }\n\n    .dataframe thead th {\n        text-align: right;\n    }\n</style>\n<table border=\"1\" class=\"dataframe\">\n  <thead>\n    <tr style=\"text-align: right;\">\n      <th></th>\n      <th>Attrition</th>\n      <th>BusinessTravel</th>\n      <th>Department</th>\n      <th>DistanceFromHome</th>\n      <th>Education</th>\n      <th>EducationField</th>\n      <th>JobLevel</th>\n      <th>JobRole</th>\n      <th>MonthlyIncome</th>\n      <th>NumCompaniesWorked</th>\n      <th>...</th>\n      <th>TrainingTimesLastYear</th>\n      <th>YearsAtCompany</th>\n      <th>YearsSinceLastPromotion</th>\n      <th>YearsWithCurrManager</th>\n      <th>hrs</th>\n      <th>JobInvolvement</th>\n      <th>PerformanceRating</th>\n      <th>EnvironmentSatisfaction</th>\n      <th>JobSatisfaction</th>\n      <th>WorkLifeBalance</th>\n    </tr>\n  </thead>\n  <tbody>\n    <tr>\n      <th>0</th>\n      <td>0</td>\n      <td>Travel_Rarely</td>\n      <td>Sales</td>\n      <td>-0.393608</td>\n      <td>BAC+2</td>\n      <td>Life Sciences</td>\n      <td>1</td>\n      <td>Healthcare Representative</td>\n      <td>1.404934</td>\n      <td>-0.678721</td>\n      <td>...</td>\n      <td>2.485416</td>\n      <td>-0.980966</td>\n      <td>-0.679016</td>\n      <td>-1.155739</td>\n      <td>0.001133</td>\n      <td>Importante</td>\n      <td>Excellent</td>\n      <td>Élevé</td>\n      <td>Très élevé</td>\n      <td>Satisfaisant</td>\n    </tr>\n    <tr>\n      <th>1</th>\n      <td>1</td>\n      <td>Travel_Frequently</td>\n      <td>Research &amp; Development</td>\n      <td>0.100215</td>\n      <td>BAC</td>\n      <td>Life Sciences</td>\n      <td>1</td>\n      <td>Research Scientist</td>\n      <td>-0.491658</td>\n      <td>-1.079751</td>\n      <td>...</td>\n      <td>0.156362</td>\n      <td>-0.327532</td>\n      <td>-0.368619</td>\n      <td>-0.034213</td>\n      <td>-0.374512</td>\n      <td>Moyenne</td>\n      <td>Au delà des attentes</td>\n      <td>Élevé</td>\n      <td>Moyen</td>\n      <td>Excellent</td>\n    </tr>\n    <tr>\n      <th>2</th>\n      <td>0</td>\n      <td>Travel_Frequently</td>\n      <td>Research &amp; Development</td>\n      <td>0.964405</td>\n      <td>BAC+5</td>\n      <td>Other</td>\n      <td>4</td>\n      <td>Sales Executive</td>\n      <td>2.724709</td>\n      <td>-0.678721</td>\n      <td>...</td>\n      <td>-0.619989</td>\n      <td>-0.327532</td>\n      <td>-0.679016</td>\n      <td>-0.314594</td>\n      <td>-0.394701</td>\n      <td>Importante</td>\n      <td>Excellent</td>\n      <td>Moyen</td>\n      <td>Moyen</td>\n      <td>Mauvais</td>\n    </tr>\n    <tr>\n      <th>3</th>\n      <td>0</td>\n      <td>Non-Travel</td>\n      <td>Research &amp; Development</td>\n      <td>-0.887430</td>\n      <td>Doctorat</td>\n      <td>Life Sciences</td>\n      <td>3</td>\n      <td>Human Resources</td>\n      <td>0.386209</td>\n      <td>0.123338</td>\n      <td>...</td>\n      <td>1.709065</td>\n      <td>0.162543</td>\n      <td>1.493766</td>\n      <td>0.246168</td>\n      <td>0.423143</td>\n      <td>Moyenne</td>\n      <td>Excellent</td>\n      <td>Très élevé</td>\n      <td>Très élevé</td>\n      <td>Très satisfaisant</td>\n    </tr>\n    <tr>\n      <th>4</th>\n      <td>0</td>\n      <td>Travel_Rarely</td>\n      <td>Research &amp; Development</td>\n      <td>0.100215</td>\n      <td>BAC</td>\n      <td>Medical</td>\n      <td>1</td>\n      <td>Sales Executive</td>\n      <td>-0.884064</td>\n      <td>0.524367</td>\n      <td>...</td>\n      <td>-0.619989</td>\n      <td>-0.164174</td>\n      <td>-0.679016</td>\n      <td>-0.034213</td>\n      <td>2.225312</td>\n      <td>Importante</td>\n      <td>Excellent</td>\n      <td>Très élevé</td>\n      <td>Faible</td>\n      <td>Très satisfaisant</td>\n    </tr>\n    <tr>\n      <th>...</th>\n      <td>...</td>\n      <td>...</td>\n      <td>...</td>\n      <td>...</td>\n      <td>...</td>\n      <td>...</td>\n      <td>...</td>\n      <td>...</td>\n      <td>...</td>\n      <td>...</td>\n      <td>...</td>\n      <td>...</td>\n      <td>...</td>\n      <td>...</td>\n      <td>...</td>\n      <td>...</td>\n      <td>...</td>\n      <td>...</td>\n      <td>...</td>\n      <td>...</td>\n      <td>...</td>\n    </tr>\n    <tr>\n      <th>4404</th>\n      <td>0</td>\n      <td>Travel_Rarely</td>\n      <td>Sales</td>\n      <td>-0.640519</td>\n      <td>BAC+3</td>\n      <td>Other</td>\n      <td>2</td>\n      <td>Human Resources</td>\n      <td>-0.629754</td>\n      <td>-0.678721</td>\n      <td>...</td>\n      <td>-0.619989</td>\n      <td>-0.164174</td>\n      <td>-0.368619</td>\n      <td>0.246168</td>\n      <td>0.753301</td>\n      <td>Moyenne</td>\n      <td>Excellent</td>\n      <td>Élevé</td>\n      <td>Très élevé</td>\n      <td>Très satisfaisant</td>\n    </tr>\n    <tr>\n      <th>4405</th>\n      <td>0</td>\n      <td>Travel_Rarely</td>\n      <td>Research &amp; Development</td>\n      <td>-0.517063</td>\n      <td>BAC+5</td>\n      <td>Medical</td>\n      <td>1</td>\n      <td>Research Scientist</td>\n      <td>-0.100739</td>\n      <td>0.123338</td>\n      <td>...</td>\n      <td>1.709065</td>\n      <td>-0.654249</td>\n      <td>-0.679016</td>\n      <td>-0.594976</td>\n      <td>-1.065012</td>\n      <td>Importante</td>\n      <td>Excellent</td>\n      <td>Très élevé</td>\n      <td>Faible</td>\n      <td>Très satisfaisant</td>\n    </tr>\n    <tr>\n      <th>4406</th>\n      <td>0</td>\n      <td>Travel_Rarely</td>\n      <td>Research &amp; Development</td>\n      <td>-0.887430</td>\n      <td>BAC+5</td>\n      <td>Medical</td>\n      <td>1</td>\n      <td>Laboratory Technician</td>\n      <td>-0.812466</td>\n      <td>-0.277692</td>\n      <td>...</td>\n      <td>-0.619989</td>\n      <td>-0.654249</td>\n      <td>-0.679016</td>\n      <td>-0.594976</td>\n      <td>-0.123943</td>\n      <td>Moyenne</td>\n      <td>Excellent</td>\n      <td>Très élevé</td>\n      <td>Très élevé</td>\n      <td>Très satisfaisant</td>\n    </tr>\n    <tr>\n      <th>4407</th>\n      <td>0</td>\n      <td>Travel_Rarely</td>\n      <td>Research &amp; Development</td>\n      <td>1.952050</td>\n      <td>BAC+2</td>\n      <td>Life Sciences</td>\n      <td>2</td>\n      <td>Sales Executive</td>\n      <td>-0.595124</td>\n      <td>-1.079751</td>\n      <td>...</td>\n      <td>0.932714</td>\n      <td>-0.490890</td>\n      <td>-0.368619</td>\n      <td>-0.594976</td>\n      <td>1.407586</td>\n      <td>Importante</td>\n      <td>Au delà des attentes</td>\n      <td>Faible</td>\n      <td>Élevé</td>\n      <td>Très satisfaisant</td>\n    </tr>\n    <tr>\n      <th>4408</th>\n      <td>0</td>\n      <td>Travel_Rarely</td>\n      <td>Sales</td>\n      <td>1.087860</td>\n      <td>BAC+2</td>\n      <td>Medical</td>\n      <td>1</td>\n      <td>Laboratory Technician</td>\n      <td>-0.872166</td>\n      <td>-1.079751</td>\n      <td>...</td>\n      <td>-0.619989</td>\n      <td>0.325902</td>\n      <td>1.493766</td>\n      <td>1.087313</td>\n      <td>-0.603172</td>\n      <td>Moyenne</td>\n      <td>Excellent</td>\n      <td>Très élevé</td>\n      <td>Faible</td>\n      <td>Très satisfaisant</td>\n    </tr>\n  </tbody>\n</table>\n<p>4409 rows × 23 columns</p>\n</div>"
     },
     "execution_count": 2,
     "metadata": {},
     "output_type": "execute_result"
    }
   ],
   "source": [
    "df = pd.read_pickle('./Datasets/complete_dataset_with_scaling.pkl')\n",
    "df"
   ],
   "metadata": {
    "collapsed": false
   }
  },
  {
   "cell_type": "code",
   "execution_count": 2,
   "outputs": [],
   "source": [],
   "metadata": {
    "collapsed": false
   }
  }
 ],
 "metadata": {
  "kernelspec": {
   "display_name": "Python 3",
   "language": "python",
   "name": "python3"
  },
  "language_info": {
   "codemirror_mode": {
    "name": "ipython",
    "version": 2
   },
   "file_extension": ".py",
   "mimetype": "text/x-python",
   "name": "python",
   "nbconvert_exporter": "python",
   "pygments_lexer": "ipython2",
   "version": "2.7.6"
  }
 },
 "nbformat": 4,
 "nbformat_minor": 0
}
