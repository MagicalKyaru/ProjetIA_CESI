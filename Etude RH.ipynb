{
 "cells": [
  {
   "cell_type": "markdown",
   "source": [
    "# Sujet\n",
    "L'entreprise de produits pharmaceutiques HumanForYou basée en Inde emploie environ 4000 personnes. Cependant, chaque année elle subit un turn-over d'environ 15% de ses employés nécessitant de retrouver des profils similaires sur le marché de l'emploi.\n",
    "La direction trouve que ce niveau de turn-over n'est pas bon pour l'entreprise car :\n",
    "•\tLes projets sur lesquels étaient les employés quittant la société prennent du retard ce qui nuit à la réputation de l'entreprise auprès de ses clients et partenaires.\n",
    "•\tUn service de ressources humaines de taille conséquente doit être conservé car il faut avoir les moyens de trouver les nouvelles recrues.\n",
    "•\tDu temps est perdu à l'arrivée des nouveaux employés car ils doivent très souvent être formés et ont besoin de temps pour devenir pleinement opérationnels dans leur nouvel environnement.\n",
    "Le direction fait donc appel à vous, spécialistes de l'analyse de données, pour déterminer les facteurs ayant le plus d'influence sur ce taux de turn-over et lui proposer des modèles afin d'avoir des pistes d'amélioration pour donner à leurs employés l'envie de rester.\n"
   ],
   "metadata": {
    "collapsed": false
   }
  },
  {
   "cell_type": "markdown",
   "source": [
    "# Etape 1 : Préparation des données"
   ],
   "metadata": {
    "collapsed": false
   }
  },
  {
   "cell_type": "code",
   "execution_count": 28,
   "outputs": [],
   "source": [
    "# Import libraries\n",
    "import pandas as pd, numpy as np, matplotlib.pyplot as plt\n",
    "import warnings\n",
    "warnings.filterwarnings('ignore')"
   ],
   "metadata": {
    "collapsed": false
   }
  },
  {
   "cell_type": "code",
   "execution_count": 29,
   "outputs": [],
   "source": [
    "# Import csv files\n",
    "in_time_csv = pd.read_csv('./Base Data/in_time.csv')\n",
    "out_time_csv = pd.read_csv('./Base Data/out_time.csv')\n",
    "general_data_csv = pd.read_csv('./Base Data/general_data.csv')\n",
    "manager_survey_data_csv = pd.read_csv('./Base Data/manager_survey_data.csv')\n",
    "employee_survey_data_csv = pd.read_csv('./Base Data/employee_survey_data.csv')"
   ],
   "metadata": {
    "collapsed": false
   }
  },
  {
   "cell_type": "markdown",
   "source": [
    "Préparation des données de pointage :\n",
    "- On supprime les valeurs manquantes (NaN) qui correspondent à un non-pointage\n",
    "- On supprime les colonnes composées uniquement de NaN\n",
    "- On transforme les pointages en quantité horaires travaillées"
   ],
   "metadata": {
    "collapsed": false
   }
  },
  {
   "cell_type": "code",
   "execution_count": 30,
   "outputs": [
    {
     "data": {
      "text/plain": "(4410, 262)"
     },
     "execution_count": 30,
     "metadata": {},
     "output_type": "execute_result"
    }
   ],
   "source": [
    "# Process in and out times\n",
    "in_time_csv.shape\n",
    "#in_time_csv.head"
   ],
   "metadata": {
    "collapsed": false
   }
  },
  {
   "cell_type": "code",
   "execution_count": 31,
   "outputs": [
    {
     "data": {
      "text/plain": "      EmployeeID       hrs\n0              0  6.870229\n1              1  7.315971\n2              2  6.816081\n3              3  6.789215\n4              4  7.877561\n...          ...       ...\n4405        4405  8.316921\n4406        4406  5.897197\n4407        4407  7.149526\n4408        4408  9.187612\n4409        4409  6.511790\n\n[4410 rows x 2 columns]",
      "text/html": "<div>\n<style scoped>\n    .dataframe tbody tr th:only-of-type {\n        vertical-align: middle;\n    }\n\n    .dataframe tbody tr th {\n        vertical-align: top;\n    }\n\n    .dataframe thead th {\n        text-align: right;\n    }\n</style>\n<table border=\"1\" class=\"dataframe\">\n  <thead>\n    <tr style=\"text-align: right;\">\n      <th></th>\n      <th>EmployeeID</th>\n      <th>hrs</th>\n    </tr>\n  </thead>\n  <tbody>\n    <tr>\n      <th>0</th>\n      <td>0</td>\n      <td>6.870229</td>\n    </tr>\n    <tr>\n      <th>1</th>\n      <td>1</td>\n      <td>7.315971</td>\n    </tr>\n    <tr>\n      <th>2</th>\n      <td>2</td>\n      <td>6.816081</td>\n    </tr>\n    <tr>\n      <th>3</th>\n      <td>3</td>\n      <td>6.789215</td>\n    </tr>\n    <tr>\n      <th>4</th>\n      <td>4</td>\n      <td>7.877561</td>\n    </tr>\n    <tr>\n      <th>...</th>\n      <td>...</td>\n      <td>...</td>\n    </tr>\n    <tr>\n      <th>4405</th>\n      <td>4405</td>\n      <td>8.316921</td>\n    </tr>\n    <tr>\n      <th>4406</th>\n      <td>4406</td>\n      <td>5.897197</td>\n    </tr>\n    <tr>\n      <th>4407</th>\n      <td>4407</td>\n      <td>7.149526</td>\n    </tr>\n    <tr>\n      <th>4408</th>\n      <td>4408</td>\n      <td>9.187612</td>\n    </tr>\n    <tr>\n      <th>4409</th>\n      <td>4409</td>\n      <td>6.511790</td>\n    </tr>\n  </tbody>\n</table>\n<p>4410 rows × 2 columns</p>\n</div>"
     },
     "execution_count": 31,
     "metadata": {},
     "output_type": "execute_result"
    }
   ],
   "source": [
    "# Append the two csv files, convert all fields except the header and the first two columns to pandas datetime\n",
    "total_time_csv = in_time_csv.append(out_time_csv, ignore_index=True)\n",
    "total_time_csv = total_time_csv.replace(np.nan, 0)\n",
    "total_time_csv.iloc[:, 1:] = total_time_csv.iloc[:, 1:].apply(pd.to_datetime, errors='coerce')\n",
    "total_time_csv = total_time_csv.diff(periods=4410, axis=0)\n",
    "total_time_csv = total_time_csv.iloc[4410:]\n",
    "total_time_csv.reset_index(inplace=True)\n",
    "total_time_csv.drop(columns=['Unnamed: 0', '2015-01-01', '2015-01-14','2015-01-26','2015-03-05',\n",
    "             '2015-05-01','2015-07-17','2015-09-17','2015-10-02',\n",
    "              '2015-11-09','2015-11-10','2015-11-11','2015-12-25', 'index'\n",
    "             ],axis=1,inplace=True)\n",
    "total_time_csv['Mean Time']=total_time_csv.mean(axis=1)\n",
    "total_time_csv['hrs']=total_time_csv['Mean Time']/np.timedelta64(1, 'h')\n",
    "total_time_csv.reset_index(inplace=True)\n",
    "total_time_csv.drop(total_time_csv.columns.difference(['index','hrs']), 1, inplace=True)\n",
    "total_time_csv.rename(columns={'index': 'EmployeeID'},inplace=True)\n",
    "\n",
    "total_time_csv"
   ],
   "metadata": {
    "collapsed": false
   }
  },
  {
   "cell_type": "markdown",
   "source": [
    "Création du fichier de données complètes :"
   ],
   "metadata": {
    "collapsed": false
   }
  },
  {
   "cell_type": "code",
   "execution_count": 40,
   "outputs": [
    {
     "data": {
      "text/plain": "               Age  DistanceFromHome    Education  EmployeeCount   EmployeeID  \\\ncount  4409.000000       4409.000000  4409.000000         4409.0  4409.000000   \nmean     36.923112          9.188251     2.912905            1.0  2205.000000   \nstd       9.134220          8.100992     1.024048            0.0  1272.912998   \nmin      18.000000          1.000000     1.000000            1.0     1.000000   \n25%      30.000000          2.000000     2.000000            1.0  1103.000000   \n50%      36.000000          7.000000     3.000000            1.0  2205.000000   \n75%      43.000000         14.000000     4.000000            1.0  3307.000000   \nmax      60.000000         29.000000     5.000000            1.0  4409.000000   \n\n          JobLevel  MonthlyIncome  NumCompaniesWorked  PercentSalaryHike  \\\ncount  4409.000000    4409.000000         4390.000000        4409.000000   \nmean      2.063960   65031.660240            2.695444          15.210252   \nstd       1.106814   47073.969139            2.498840           3.659203   \nmin       1.000000   10090.000000            0.000000          11.000000   \n25%       1.000000   29110.000000            1.000000          12.000000   \n50%       2.000000   49080.000000            2.000000          14.000000   \n75%       3.000000   83800.000000            4.000000          18.000000   \nmax       5.000000  199990.000000            9.000000          25.000000   \n\n       StandardHours  ...  TrainingTimesLastYear  YearsAtCompany  \\\ncount         4409.0  ...            4409.000000     4409.000000   \nmean             8.0  ...               2.798594        7.004990   \nstd              0.0  ...               1.288222        6.122203   \nmin              8.0  ...               0.000000        0.000000   \n25%              8.0  ...               2.000000        3.000000   \n50%              8.0  ...               3.000000        5.000000   \n75%              8.0  ...               3.000000        9.000000   \nmax              8.0  ...               6.000000       40.000000   \n\n       YearsSinceLastPromotion  YearsWithCurrManager          hrs  \\\ncount              4409.000000           4409.000000  4409.000000   \nmean                  2.187571              4.122023     7.314463   \nstd                   3.222042              3.566975     1.330903   \nmin                   0.000000              0.000000     5.416880   \n25%                   0.000000              2.000000     6.278995   \n50%                   1.000000              3.000000     7.011237   \n75%                   3.000000              7.000000     7.900932   \nmax                  15.000000             17.000000    10.937261   \n\n       JobInvolvement  PerformanceRating  EnvironmentSatisfaction  \\\ncount     4409.000000        4409.000000              4384.000000   \nmean         2.729644           3.153776                 2.723996   \nstd          0.711223           0.360775                 1.092571   \nmin          1.000000           3.000000                 1.000000   \n25%          2.000000           3.000000                 2.000000   \n50%          3.000000           3.000000                 3.000000   \n75%          3.000000           3.000000                 4.000000   \nmax          4.000000           4.000000                 4.000000   \n\n       JobSatisfaction  WorkLifeBalance  \ncount      4389.000000      4372.000000  \nmean          2.728184         2.761436  \nstd           1.101371         0.706245  \nmin           1.000000         1.000000  \n25%           2.000000         2.000000  \n50%           3.000000         3.000000  \n75%           4.000000         3.000000  \nmax           4.000000         4.000000  \n\n[8 rows x 22 columns]",
      "text/html": "<div>\n<style scoped>\n    .dataframe tbody tr th:only-of-type {\n        vertical-align: middle;\n    }\n\n    .dataframe tbody tr th {\n        vertical-align: top;\n    }\n\n    .dataframe thead th {\n        text-align: right;\n    }\n</style>\n<table border=\"1\" class=\"dataframe\">\n  <thead>\n    <tr style=\"text-align: right;\">\n      <th></th>\n      <th>Age</th>\n      <th>DistanceFromHome</th>\n      <th>Education</th>\n      <th>EmployeeCount</th>\n      <th>EmployeeID</th>\n      <th>JobLevel</th>\n      <th>MonthlyIncome</th>\n      <th>NumCompaniesWorked</th>\n      <th>PercentSalaryHike</th>\n      <th>StandardHours</th>\n      <th>...</th>\n      <th>TrainingTimesLastYear</th>\n      <th>YearsAtCompany</th>\n      <th>YearsSinceLastPromotion</th>\n      <th>YearsWithCurrManager</th>\n      <th>hrs</th>\n      <th>JobInvolvement</th>\n      <th>PerformanceRating</th>\n      <th>EnvironmentSatisfaction</th>\n      <th>JobSatisfaction</th>\n      <th>WorkLifeBalance</th>\n    </tr>\n  </thead>\n  <tbody>\n    <tr>\n      <th>count</th>\n      <td>4409.000000</td>\n      <td>4409.000000</td>\n      <td>4409.000000</td>\n      <td>4409.0</td>\n      <td>4409.000000</td>\n      <td>4409.000000</td>\n      <td>4409.000000</td>\n      <td>4390.000000</td>\n      <td>4409.000000</td>\n      <td>4409.0</td>\n      <td>...</td>\n      <td>4409.000000</td>\n      <td>4409.000000</td>\n      <td>4409.000000</td>\n      <td>4409.000000</td>\n      <td>4409.000000</td>\n      <td>4409.000000</td>\n      <td>4409.000000</td>\n      <td>4384.000000</td>\n      <td>4389.000000</td>\n      <td>4372.000000</td>\n    </tr>\n    <tr>\n      <th>mean</th>\n      <td>36.923112</td>\n      <td>9.188251</td>\n      <td>2.912905</td>\n      <td>1.0</td>\n      <td>2205.000000</td>\n      <td>2.063960</td>\n      <td>65031.660240</td>\n      <td>2.695444</td>\n      <td>15.210252</td>\n      <td>8.0</td>\n      <td>...</td>\n      <td>2.798594</td>\n      <td>7.004990</td>\n      <td>2.187571</td>\n      <td>4.122023</td>\n      <td>7.314463</td>\n      <td>2.729644</td>\n      <td>3.153776</td>\n      <td>2.723996</td>\n      <td>2.728184</td>\n      <td>2.761436</td>\n    </tr>\n    <tr>\n      <th>std</th>\n      <td>9.134220</td>\n      <td>8.100992</td>\n      <td>1.024048</td>\n      <td>0.0</td>\n      <td>1272.912998</td>\n      <td>1.106814</td>\n      <td>47073.969139</td>\n      <td>2.498840</td>\n      <td>3.659203</td>\n      <td>0.0</td>\n      <td>...</td>\n      <td>1.288222</td>\n      <td>6.122203</td>\n      <td>3.222042</td>\n      <td>3.566975</td>\n      <td>1.330903</td>\n      <td>0.711223</td>\n      <td>0.360775</td>\n      <td>1.092571</td>\n      <td>1.101371</td>\n      <td>0.706245</td>\n    </tr>\n    <tr>\n      <th>min</th>\n      <td>18.000000</td>\n      <td>1.000000</td>\n      <td>1.000000</td>\n      <td>1.0</td>\n      <td>1.000000</td>\n      <td>1.000000</td>\n      <td>10090.000000</td>\n      <td>0.000000</td>\n      <td>11.000000</td>\n      <td>8.0</td>\n      <td>...</td>\n      <td>0.000000</td>\n      <td>0.000000</td>\n      <td>0.000000</td>\n      <td>0.000000</td>\n      <td>5.416880</td>\n      <td>1.000000</td>\n      <td>3.000000</td>\n      <td>1.000000</td>\n      <td>1.000000</td>\n      <td>1.000000</td>\n    </tr>\n    <tr>\n      <th>25%</th>\n      <td>30.000000</td>\n      <td>2.000000</td>\n      <td>2.000000</td>\n      <td>1.0</td>\n      <td>1103.000000</td>\n      <td>1.000000</td>\n      <td>29110.000000</td>\n      <td>1.000000</td>\n      <td>12.000000</td>\n      <td>8.0</td>\n      <td>...</td>\n      <td>2.000000</td>\n      <td>3.000000</td>\n      <td>0.000000</td>\n      <td>2.000000</td>\n      <td>6.278995</td>\n      <td>2.000000</td>\n      <td>3.000000</td>\n      <td>2.000000</td>\n      <td>2.000000</td>\n      <td>2.000000</td>\n    </tr>\n    <tr>\n      <th>50%</th>\n      <td>36.000000</td>\n      <td>7.000000</td>\n      <td>3.000000</td>\n      <td>1.0</td>\n      <td>2205.000000</td>\n      <td>2.000000</td>\n      <td>49080.000000</td>\n      <td>2.000000</td>\n      <td>14.000000</td>\n      <td>8.0</td>\n      <td>...</td>\n      <td>3.000000</td>\n      <td>5.000000</td>\n      <td>1.000000</td>\n      <td>3.000000</td>\n      <td>7.011237</td>\n      <td>3.000000</td>\n      <td>3.000000</td>\n      <td>3.000000</td>\n      <td>3.000000</td>\n      <td>3.000000</td>\n    </tr>\n    <tr>\n      <th>75%</th>\n      <td>43.000000</td>\n      <td>14.000000</td>\n      <td>4.000000</td>\n      <td>1.0</td>\n      <td>3307.000000</td>\n      <td>3.000000</td>\n      <td>83800.000000</td>\n      <td>4.000000</td>\n      <td>18.000000</td>\n      <td>8.0</td>\n      <td>...</td>\n      <td>3.000000</td>\n      <td>9.000000</td>\n      <td>3.000000</td>\n      <td>7.000000</td>\n      <td>7.900932</td>\n      <td>3.000000</td>\n      <td>3.000000</td>\n      <td>4.000000</td>\n      <td>4.000000</td>\n      <td>3.000000</td>\n    </tr>\n    <tr>\n      <th>max</th>\n      <td>60.000000</td>\n      <td>29.000000</td>\n      <td>5.000000</td>\n      <td>1.0</td>\n      <td>4409.000000</td>\n      <td>5.000000</td>\n      <td>199990.000000</td>\n      <td>9.000000</td>\n      <td>25.000000</td>\n      <td>8.0</td>\n      <td>...</td>\n      <td>6.000000</td>\n      <td>40.000000</td>\n      <td>15.000000</td>\n      <td>17.000000</td>\n      <td>10.937261</td>\n      <td>4.000000</td>\n      <td>4.000000</td>\n      <td>4.000000</td>\n      <td>4.000000</td>\n      <td>4.000000</td>\n    </tr>\n  </tbody>\n</table>\n<p>8 rows × 22 columns</p>\n</div>"
     },
     "execution_count": 40,
     "metadata": {},
     "output_type": "execute_result"
    }
   ],
   "source": [
    "# Merge the multiple csv files\n",
    "complete_csv = pd.merge(general_data_csv, total_time_csv, on='EmployeeID', how='inner')\n",
    "complete_csv = pd.merge(complete_csv, manager_survey_data_csv, on='EmployeeID', how='inner')\n",
    "complete_csv = pd.merge(complete_csv, employee_survey_data_csv, on='EmployeeID', how='inner')\n",
    "complete_csv.describe()"
   ],
   "metadata": {
    "collapsed": false
   }
  },
  {
   "cell_type": "markdown",
   "source": [
    "Suppression des colonnes inutiles :"
   ],
   "metadata": {
    "collapsed": false
   }
  },
  {
   "cell_type": "code",
   "execution_count": 33,
   "outputs": [
    {
     "name": "stdout",
     "output_type": "stream",
     "text": [
      "Deleted : EmployeeCount (Cause : All values are the same)\n",
      "Deleted : Over18 (Cause : All values are the same)\n",
      "Deleted : StandardHours (Cause : All values are the same)\n",
      "Deleted : EmployeeID (Cause : Iteration useful for the analysis)\n"
     ]
    }
   ],
   "source": [
    "# Delete all print columns with always the same value\n",
    "for col in complete_csv.columns:\n",
    "    if len(complete_csv[col].unique()) == 1:\n",
    "        complete_csv.drop(columns=[col],axis=1,inplace=True)\n",
    "        print(\"Deleted : \" + col + \" (Cause : All values are the same)\")\n",
    "\n",
    "# The employee ID is not useful for the analysis\n",
    "complete_csv.drop(columns=['EmployeeID'],axis=1,inplace=True)\n",
    "print(\"Deleted : EmployeeID (Cause : Iteration useful for the analysis)\")\n"
   ],
   "metadata": {
    "collapsed": false
   }
  },
  {
   "cell_type": "markdown",
   "source": [
    "Remplissage des données manquantes :"
   ],
   "metadata": {
    "collapsed": false
   }
  },
  {
   "cell_type": "code",
   "execution_count": 34,
   "outputs": [
    {
     "name": "stdout",
     "output_type": "stream",
     "text": [
      "Column with NaN : NumCompaniesWorked (Type : float64)\n",
      "Column with NaN : TotalWorkingYears (Type : float64)\n",
      "Column with NaN : EnvironmentSatisfaction (Type : float64)\n",
      "Column with NaN : JobSatisfaction (Type : float64)\n",
      "Column with NaN : WorkLifeBalance (Type : float64)\n"
     ]
    }
   ],
   "source": [
    "# Print the list of columns with NaN values and their type\n",
    "for col in complete_csv.columns:\n",
    "    if complete_csv[col].isna().values.any():\n",
    "        print(\"Column with NaN : \" + col + \" (Type : \" + str(complete_csv[col].dtype) + \")\")"
   ],
   "metadata": {
    "collapsed": false
   }
  },
  {
   "cell_type": "markdown",
   "source": [
    "Toutes ces colonnes peuvent avoir leurs valeurs manquantes remplacées par la médiane de la colonne car elles sont toutes numériques."
   ],
   "metadata": {
    "collapsed": false
   }
  },
  {
   "cell_type": "code",
   "execution_count": 39,
   "outputs": [
    {
     "name": "stdout",
     "output_type": "stream",
     "text": [
      "Dataset has been completely filled.\n"
     ]
    }
   ],
   "source": [
    "# Fill all numerical columns with the median of the column and print the list of the filled columns if they have nan values.\n",
    "for col in complete_csv.columns:\n",
    "    if complete_csv[col].isna().values.any():\n",
    "        complete_csv[col].fillna(complete_csv[col].median(), inplace=True)\n",
    "        print(\"Column with NaN filled with the median value : \" + col)\n",
    "#Verify if there is still NaN values\n",
    "if complete_csv.isnull().values.any():\n",
    "    print(\"There is still NaN values in the dataset.\")\n",
    "else:\n",
    "    print(\"Dataset has been completely filled.\")"
   ],
   "metadata": {
    "collapsed": false
   }
  },
  {
   "cell_type": "markdown",
   "source": [
    "Correction des types de données incorrects :\n",
    "Ces données ne sont pas représentatives \"linéairement\", il faut donc les passer en type \"object\" pour éviter des erreurs lors de l'analyse."
   ],
   "metadata": {
    "collapsed": false
   }
  },
  {
   "cell_type": "code",
   "execution_count": 36,
   "outputs": [
    {
     "name": "stdout",
     "output_type": "stream",
     "text": [
      "<class 'pandas.core.frame.DataFrame'>\n",
      "Int64Index: 4409 entries, 0 to 4408\n",
      "Data columns (total 26 columns):\n",
      " #   Column                   Non-Null Count  Dtype  \n",
      "---  ------                   --------------  -----  \n",
      " 0   Age                      4409 non-null   int64  \n",
      " 1   Attrition                4409 non-null   object \n",
      " 2   BusinessTravel           4409 non-null   object \n",
      " 3   Department               4409 non-null   object \n",
      " 4   DistanceFromHome         4409 non-null   int64  \n",
      " 5   Education                4409 non-null   int64  \n",
      " 6   EducationField           4409 non-null   object \n",
      " 7   Gender                   4409 non-null   object \n",
      " 8   JobLevel                 4409 non-null   int64  \n",
      " 9   JobRole                  4409 non-null   object \n",
      " 10  MaritalStatus            4409 non-null   object \n",
      " 11  MonthlyIncome            4409 non-null   int64  \n",
      " 12  NumCompaniesWorked       4409 non-null   float64\n",
      " 13  PercentSalaryHike        4409 non-null   int64  \n",
      " 14  StockOptionLevel         4409 non-null   int64  \n",
      " 15  TotalWorkingYears        4409 non-null   float64\n",
      " 16  TrainingTimesLastYear    4409 non-null   int64  \n",
      " 17  YearsAtCompany           4409 non-null   int64  \n",
      " 18  YearsSinceLastPromotion  4409 non-null   int64  \n",
      " 19  YearsWithCurrManager     4409 non-null   int64  \n",
      " 20  hrs                      4409 non-null   float64\n",
      " 21  JobInvolvement           4409 non-null   int64  \n",
      " 22  PerformanceRating        4409 non-null   int64  \n",
      " 23  EnvironmentSatisfaction  4409 non-null   float64\n",
      " 24  JobSatisfaction          4409 non-null   float64\n",
      " 25  WorkLifeBalance          4409 non-null   float64\n",
      "dtypes: float64(6), int64(13), object(7)\n",
      "memory usage: 930.0+ KB\n"
     ]
    }
   ],
   "source": [
    "complete_csv.info()"
   ],
   "metadata": {
    "collapsed": false
   }
  },
  {
   "cell_type": "code",
   "execution_count": 41,
   "outputs": [
    {
     "data": {
      "text/plain": "      Age Attrition     BusinessTravel              Department  \\\n0      51        No      Travel_Rarely                   Sales   \n1      31       Yes  Travel_Frequently  Research & Development   \n2      32        No  Travel_Frequently  Research & Development   \n3      38        No         Non-Travel  Research & Development   \n4      32        No      Travel_Rarely  Research & Development   \n...   ...       ...                ...                     ...   \n4404   29        No      Travel_Rarely                   Sales   \n4405   42        No      Travel_Rarely  Research & Development   \n4406   29        No      Travel_Rarely  Research & Development   \n4407   25        No      Travel_Rarely  Research & Development   \n4408   42        No      Travel_Rarely                   Sales   \n\n      DistanceFromHome Education EducationField  EmployeeCount  EmployeeID  \\\n0                    6         2  Life Sciences              1           1   \n1                   10         1  Life Sciences              1           2   \n2                   17         4          Other              1           3   \n3                    2         5  Life Sciences              1           4   \n4                   10         1        Medical              1           5   \n...                ...       ...            ...            ...         ...   \n4404                 4         3          Other              1        4405   \n4405                 5         4        Medical              1        4406   \n4406                 2         4        Medical              1        4407   \n4407                25         2  Life Sciences              1        4408   \n4408                18         2        Medical              1        4409   \n\n      Gender  ... TrainingTimesLastYear YearsAtCompany  \\\n0     Female  ...                     6              1   \n1     Female  ...                     3              5   \n2       Male  ...                     2              5   \n3       Male  ...                     5              8   \n4       Male  ...                     2              6   \n...      ...  ...                   ...            ...   \n4404  Female  ...                     2              6   \n4405  Female  ...                     5              3   \n4406    Male  ...                     2              3   \n4407    Male  ...                     4              4   \n4408    Male  ...                     2              9   \n\n     YearsSinceLastPromotion  YearsWithCurrManager        hrs JobInvolvement  \\\n0                          0                     0   7.315971              3   \n1                          1                     4   6.816081              2   \n2                          0                     3   6.789215              3   \n3                          7                     5   7.877561              2   \n4                          0                     4  10.275802              3   \n...                      ...                   ...        ...            ...   \n4404                       1                     5   8.316921              2   \n4405                       0                     2   5.897197              3   \n4406                       0                     2   7.149526              2   \n4407                       1                     2   9.187612              3   \n4408                       7                     8   6.511790              2   \n\n      PerformanceRating  EnvironmentSatisfaction  JobSatisfaction  \\\n0                     3                      3.0              4.0   \n1                     4                      3.0              2.0   \n2                     3                      2.0              2.0   \n3                     3                      4.0              4.0   \n4                     3                      4.0              1.0   \n...                 ...                      ...              ...   \n4404                  3                      3.0              4.0   \n4405                  3                      4.0              1.0   \n4406                  3                      4.0              4.0   \n4407                  4                      1.0              3.0   \n4408                  3                      4.0              1.0   \n\n      WorkLifeBalance  \n0                 2.0  \n1                 4.0  \n2                 1.0  \n3                 3.0  \n4                 3.0  \n...               ...  \n4404              3.0  \n4405              3.0  \n4406              3.0  \n4407              3.0  \n4408              3.0  \n\n[4409 rows x 30 columns]",
      "text/html": "<div>\n<style scoped>\n    .dataframe tbody tr th:only-of-type {\n        vertical-align: middle;\n    }\n\n    .dataframe tbody tr th {\n        vertical-align: top;\n    }\n\n    .dataframe thead th {\n        text-align: right;\n    }\n</style>\n<table border=\"1\" class=\"dataframe\">\n  <thead>\n    <tr style=\"text-align: right;\">\n      <th></th>\n      <th>Age</th>\n      <th>Attrition</th>\n      <th>BusinessTravel</th>\n      <th>Department</th>\n      <th>DistanceFromHome</th>\n      <th>Education</th>\n      <th>EducationField</th>\n      <th>EmployeeCount</th>\n      <th>EmployeeID</th>\n      <th>Gender</th>\n      <th>...</th>\n      <th>TrainingTimesLastYear</th>\n      <th>YearsAtCompany</th>\n      <th>YearsSinceLastPromotion</th>\n      <th>YearsWithCurrManager</th>\n      <th>hrs</th>\n      <th>JobInvolvement</th>\n      <th>PerformanceRating</th>\n      <th>EnvironmentSatisfaction</th>\n      <th>JobSatisfaction</th>\n      <th>WorkLifeBalance</th>\n    </tr>\n  </thead>\n  <tbody>\n    <tr>\n      <th>0</th>\n      <td>51</td>\n      <td>No</td>\n      <td>Travel_Rarely</td>\n      <td>Sales</td>\n      <td>6</td>\n      <td>2</td>\n      <td>Life Sciences</td>\n      <td>1</td>\n      <td>1</td>\n      <td>Female</td>\n      <td>...</td>\n      <td>6</td>\n      <td>1</td>\n      <td>0</td>\n      <td>0</td>\n      <td>7.315971</td>\n      <td>3</td>\n      <td>3</td>\n      <td>3.0</td>\n      <td>4.0</td>\n      <td>2.0</td>\n    </tr>\n    <tr>\n      <th>1</th>\n      <td>31</td>\n      <td>Yes</td>\n      <td>Travel_Frequently</td>\n      <td>Research &amp; Development</td>\n      <td>10</td>\n      <td>1</td>\n      <td>Life Sciences</td>\n      <td>1</td>\n      <td>2</td>\n      <td>Female</td>\n      <td>...</td>\n      <td>3</td>\n      <td>5</td>\n      <td>1</td>\n      <td>4</td>\n      <td>6.816081</td>\n      <td>2</td>\n      <td>4</td>\n      <td>3.0</td>\n      <td>2.0</td>\n      <td>4.0</td>\n    </tr>\n    <tr>\n      <th>2</th>\n      <td>32</td>\n      <td>No</td>\n      <td>Travel_Frequently</td>\n      <td>Research &amp; Development</td>\n      <td>17</td>\n      <td>4</td>\n      <td>Other</td>\n      <td>1</td>\n      <td>3</td>\n      <td>Male</td>\n      <td>...</td>\n      <td>2</td>\n      <td>5</td>\n      <td>0</td>\n      <td>3</td>\n      <td>6.789215</td>\n      <td>3</td>\n      <td>3</td>\n      <td>2.0</td>\n      <td>2.0</td>\n      <td>1.0</td>\n    </tr>\n    <tr>\n      <th>3</th>\n      <td>38</td>\n      <td>No</td>\n      <td>Non-Travel</td>\n      <td>Research &amp; Development</td>\n      <td>2</td>\n      <td>5</td>\n      <td>Life Sciences</td>\n      <td>1</td>\n      <td>4</td>\n      <td>Male</td>\n      <td>...</td>\n      <td>5</td>\n      <td>8</td>\n      <td>7</td>\n      <td>5</td>\n      <td>7.877561</td>\n      <td>2</td>\n      <td>3</td>\n      <td>4.0</td>\n      <td>4.0</td>\n      <td>3.0</td>\n    </tr>\n    <tr>\n      <th>4</th>\n      <td>32</td>\n      <td>No</td>\n      <td>Travel_Rarely</td>\n      <td>Research &amp; Development</td>\n      <td>10</td>\n      <td>1</td>\n      <td>Medical</td>\n      <td>1</td>\n      <td>5</td>\n      <td>Male</td>\n      <td>...</td>\n      <td>2</td>\n      <td>6</td>\n      <td>0</td>\n      <td>4</td>\n      <td>10.275802</td>\n      <td>3</td>\n      <td>3</td>\n      <td>4.0</td>\n      <td>1.0</td>\n      <td>3.0</td>\n    </tr>\n    <tr>\n      <th>...</th>\n      <td>...</td>\n      <td>...</td>\n      <td>...</td>\n      <td>...</td>\n      <td>...</td>\n      <td>...</td>\n      <td>...</td>\n      <td>...</td>\n      <td>...</td>\n      <td>...</td>\n      <td>...</td>\n      <td>...</td>\n      <td>...</td>\n      <td>...</td>\n      <td>...</td>\n      <td>...</td>\n      <td>...</td>\n      <td>...</td>\n      <td>...</td>\n      <td>...</td>\n      <td>...</td>\n    </tr>\n    <tr>\n      <th>4404</th>\n      <td>29</td>\n      <td>No</td>\n      <td>Travel_Rarely</td>\n      <td>Sales</td>\n      <td>4</td>\n      <td>3</td>\n      <td>Other</td>\n      <td>1</td>\n      <td>4405</td>\n      <td>Female</td>\n      <td>...</td>\n      <td>2</td>\n      <td>6</td>\n      <td>1</td>\n      <td>5</td>\n      <td>8.316921</td>\n      <td>2</td>\n      <td>3</td>\n      <td>3.0</td>\n      <td>4.0</td>\n      <td>3.0</td>\n    </tr>\n    <tr>\n      <th>4405</th>\n      <td>42</td>\n      <td>No</td>\n      <td>Travel_Rarely</td>\n      <td>Research &amp; Development</td>\n      <td>5</td>\n      <td>4</td>\n      <td>Medical</td>\n      <td>1</td>\n      <td>4406</td>\n      <td>Female</td>\n      <td>...</td>\n      <td>5</td>\n      <td>3</td>\n      <td>0</td>\n      <td>2</td>\n      <td>5.897197</td>\n      <td>3</td>\n      <td>3</td>\n      <td>4.0</td>\n      <td>1.0</td>\n      <td>3.0</td>\n    </tr>\n    <tr>\n      <th>4406</th>\n      <td>29</td>\n      <td>No</td>\n      <td>Travel_Rarely</td>\n      <td>Research &amp; Development</td>\n      <td>2</td>\n      <td>4</td>\n      <td>Medical</td>\n      <td>1</td>\n      <td>4407</td>\n      <td>Male</td>\n      <td>...</td>\n      <td>2</td>\n      <td>3</td>\n      <td>0</td>\n      <td>2</td>\n      <td>7.149526</td>\n      <td>2</td>\n      <td>3</td>\n      <td>4.0</td>\n      <td>4.0</td>\n      <td>3.0</td>\n    </tr>\n    <tr>\n      <th>4407</th>\n      <td>25</td>\n      <td>No</td>\n      <td>Travel_Rarely</td>\n      <td>Research &amp; Development</td>\n      <td>25</td>\n      <td>2</td>\n      <td>Life Sciences</td>\n      <td>1</td>\n      <td>4408</td>\n      <td>Male</td>\n      <td>...</td>\n      <td>4</td>\n      <td>4</td>\n      <td>1</td>\n      <td>2</td>\n      <td>9.187612</td>\n      <td>3</td>\n      <td>4</td>\n      <td>1.0</td>\n      <td>3.0</td>\n      <td>3.0</td>\n    </tr>\n    <tr>\n      <th>4408</th>\n      <td>42</td>\n      <td>No</td>\n      <td>Travel_Rarely</td>\n      <td>Sales</td>\n      <td>18</td>\n      <td>2</td>\n      <td>Medical</td>\n      <td>1</td>\n      <td>4409</td>\n      <td>Male</td>\n      <td>...</td>\n      <td>2</td>\n      <td>9</td>\n      <td>7</td>\n      <td>8</td>\n      <td>6.511790</td>\n      <td>2</td>\n      <td>3</td>\n      <td>4.0</td>\n      <td>1.0</td>\n      <td>3.0</td>\n    </tr>\n  </tbody>\n</table>\n<p>4409 rows × 30 columns</p>\n</div>"
     },
     "execution_count": 41,
     "metadata": {},
     "output_type": "execute_result"
    }
   ],
   "source": [
    "complete_csv['Education'] = complete_csv['Education'].astype('object')\n",
    "complete_csv['EnvironmentSatisfaction'] = complete_csv['EnvironmentSatisfaction'].astype('object')\n",
    "complete_csv['JobInvolvement'] = complete_csv['JobInvolvement'].astype('object')\n",
    "complete_csv['JobSatisfaction'] = complete_csv['JobSatisfaction'].astype('object')\n",
    "complete_csv['PerformanceRating'] = complete_csv['PerformanceRating'].astype('object')\n",
    "complete_csv['JobLevel'] = complete_csv['JobLevel'].astype('object')\n",
    "complete_csv['WorkLifeBalance'] = complete_csv['WorkLifeBalance'].astype('object')\n",
    "complete_csv"
   ],
   "metadata": {
    "collapsed": false
   }
  },
  {
   "cell_type": "markdown",
   "source": [
    "Remplacement des valeurs numériques par des valeurs textuelles :\n",
    "Le jeu de données est assez propre, il ne reste plus qu'à remplacer certaines valeurs numériques par des valeurs textuelles pour faciliter l'analyse."
   ],
   "metadata": {
    "collapsed": false
   }
  },
  {
   "cell_type": "code",
   "execution_count": 42,
   "outputs": [],
   "source": [
    "# Replace numerical values by text values\n",
    "# general_data\n",
    "complete_csv['Education'].replace({1: 'BAC', 2: 'BAC+2', 3: 'BAC+3', 4: 'BAC+5', 5: 'Doctorat'}, inplace=True)\n",
    "# manager_survey\n",
    "complete_csv['JobInvolvement'].replace({1: 'Faible', 2: 'Moyenne', 3: 'Importante', 4: 'Très importante'}, inplace=True)\n",
    "complete_csv['PerformanceRating'].replace({1: 'Faible', 2: 'Bon', 3: 'Excellent', 4: 'Au delà des attentes'}, inplace=True)\n",
    "# employee_survey\n",
    "complete_csv['EnvironmentSatisfaction'].replace({1: 'Faible', 2: 'Moyen', 3: 'Élevé', 4: 'Très élevé'}, inplace=True)\n",
    "complete_csv['JobSatisfaction'].replace({1: 'Faible', 2: 'Moyen', 3: 'Élevé', 4: 'Très élevé'}, inplace=True)\n",
    "complete_csv['WorkLifeBalance'].replace({1: 'Mauvais', 2: 'Satisfaisant', 3: 'Très satisfaisant', 4: 'Excellent'}, inplace=True)"
   ],
   "metadata": {
    "collapsed": false
   }
  },
  {
   "cell_type": "code",
   "execution_count": 43,
   "outputs": [
    {
     "data": {
      "text/plain": "      Age Attrition     BusinessTravel              Department  \\\n0      51        No      Travel_Rarely                   Sales   \n1      31       Yes  Travel_Frequently  Research & Development   \n2      32        No  Travel_Frequently  Research & Development   \n3      38        No         Non-Travel  Research & Development   \n4      32        No      Travel_Rarely  Research & Development   \n...   ...       ...                ...                     ...   \n4404   29        No      Travel_Rarely                   Sales   \n4405   42        No      Travel_Rarely  Research & Development   \n4406   29        No      Travel_Rarely  Research & Development   \n4407   25        No      Travel_Rarely  Research & Development   \n4408   42        No      Travel_Rarely                   Sales   \n\n      DistanceFromHome Education EducationField  EmployeeCount  EmployeeID  \\\n0                    6     BAC+2  Life Sciences              1           1   \n1                   10       BAC  Life Sciences              1           2   \n2                   17     BAC+5          Other              1           3   \n3                    2  Doctorat  Life Sciences              1           4   \n4                   10       BAC        Medical              1           5   \n...                ...       ...            ...            ...         ...   \n4404                 4     BAC+3          Other              1        4405   \n4405                 5     BAC+5        Medical              1        4406   \n4406                 2     BAC+5        Medical              1        4407   \n4407                25     BAC+2  Life Sciences              1        4408   \n4408                18     BAC+2        Medical              1        4409   \n\n      Gender  ... TrainingTimesLastYear YearsAtCompany  \\\n0     Female  ...                     6              1   \n1     Female  ...                     3              5   \n2       Male  ...                     2              5   \n3       Male  ...                     5              8   \n4       Male  ...                     2              6   \n...      ...  ...                   ...            ...   \n4404  Female  ...                     2              6   \n4405  Female  ...                     5              3   \n4406    Male  ...                     2              3   \n4407    Male  ...                     4              4   \n4408    Male  ...                     2              9   \n\n     YearsSinceLastPromotion  YearsWithCurrManager        hrs JobInvolvement  \\\n0                          0                     0   7.315971     Importante   \n1                          1                     4   6.816081        Moyenne   \n2                          0                     3   6.789215     Importante   \n3                          7                     5   7.877561        Moyenne   \n4                          0                     4  10.275802     Importante   \n...                      ...                   ...        ...            ...   \n4404                       1                     5   8.316921        Moyenne   \n4405                       0                     2   5.897197     Importante   \n4406                       0                     2   7.149526        Moyenne   \n4407                       1                     2   9.187612     Importante   \n4408                       7                     8   6.511790        Moyenne   \n\n         PerformanceRating  EnvironmentSatisfaction  JobSatisfaction  \\\n0                Excellent                    Élevé       Très élevé   \n1     Au delà des attentes                    Élevé            Moyen   \n2                Excellent                    Moyen            Moyen   \n3                Excellent               Très élevé       Très élevé   \n4                Excellent               Très élevé           Faible   \n...                    ...                      ...              ...   \n4404             Excellent                    Élevé       Très élevé   \n4405             Excellent               Très élevé           Faible   \n4406             Excellent               Très élevé       Très élevé   \n4407  Au delà des attentes                   Faible            Élevé   \n4408             Excellent               Très élevé           Faible   \n\n        WorkLifeBalance  \n0          Satisfaisant  \n1             Excellent  \n2               Mauvais  \n3     Très satisfaisant  \n4     Très satisfaisant  \n...                 ...  \n4404  Très satisfaisant  \n4405  Très satisfaisant  \n4406  Très satisfaisant  \n4407  Très satisfaisant  \n4408  Très satisfaisant  \n\n[4409 rows x 30 columns]",
      "text/html": "<div>\n<style scoped>\n    .dataframe tbody tr th:only-of-type {\n        vertical-align: middle;\n    }\n\n    .dataframe tbody tr th {\n        vertical-align: top;\n    }\n\n    .dataframe thead th {\n        text-align: right;\n    }\n</style>\n<table border=\"1\" class=\"dataframe\">\n  <thead>\n    <tr style=\"text-align: right;\">\n      <th></th>\n      <th>Age</th>\n      <th>Attrition</th>\n      <th>BusinessTravel</th>\n      <th>Department</th>\n      <th>DistanceFromHome</th>\n      <th>Education</th>\n      <th>EducationField</th>\n      <th>EmployeeCount</th>\n      <th>EmployeeID</th>\n      <th>Gender</th>\n      <th>...</th>\n      <th>TrainingTimesLastYear</th>\n      <th>YearsAtCompany</th>\n      <th>YearsSinceLastPromotion</th>\n      <th>YearsWithCurrManager</th>\n      <th>hrs</th>\n      <th>JobInvolvement</th>\n      <th>PerformanceRating</th>\n      <th>EnvironmentSatisfaction</th>\n      <th>JobSatisfaction</th>\n      <th>WorkLifeBalance</th>\n    </tr>\n  </thead>\n  <tbody>\n    <tr>\n      <th>0</th>\n      <td>51</td>\n      <td>No</td>\n      <td>Travel_Rarely</td>\n      <td>Sales</td>\n      <td>6</td>\n      <td>BAC+2</td>\n      <td>Life Sciences</td>\n      <td>1</td>\n      <td>1</td>\n      <td>Female</td>\n      <td>...</td>\n      <td>6</td>\n      <td>1</td>\n      <td>0</td>\n      <td>0</td>\n      <td>7.315971</td>\n      <td>Importante</td>\n      <td>Excellent</td>\n      <td>Élevé</td>\n      <td>Très élevé</td>\n      <td>Satisfaisant</td>\n    </tr>\n    <tr>\n      <th>1</th>\n      <td>31</td>\n      <td>Yes</td>\n      <td>Travel_Frequently</td>\n      <td>Research &amp; Development</td>\n      <td>10</td>\n      <td>BAC</td>\n      <td>Life Sciences</td>\n      <td>1</td>\n      <td>2</td>\n      <td>Female</td>\n      <td>...</td>\n      <td>3</td>\n      <td>5</td>\n      <td>1</td>\n      <td>4</td>\n      <td>6.816081</td>\n      <td>Moyenne</td>\n      <td>Au delà des attentes</td>\n      <td>Élevé</td>\n      <td>Moyen</td>\n      <td>Excellent</td>\n    </tr>\n    <tr>\n      <th>2</th>\n      <td>32</td>\n      <td>No</td>\n      <td>Travel_Frequently</td>\n      <td>Research &amp; Development</td>\n      <td>17</td>\n      <td>BAC+5</td>\n      <td>Other</td>\n      <td>1</td>\n      <td>3</td>\n      <td>Male</td>\n      <td>...</td>\n      <td>2</td>\n      <td>5</td>\n      <td>0</td>\n      <td>3</td>\n      <td>6.789215</td>\n      <td>Importante</td>\n      <td>Excellent</td>\n      <td>Moyen</td>\n      <td>Moyen</td>\n      <td>Mauvais</td>\n    </tr>\n    <tr>\n      <th>3</th>\n      <td>38</td>\n      <td>No</td>\n      <td>Non-Travel</td>\n      <td>Research &amp; Development</td>\n      <td>2</td>\n      <td>Doctorat</td>\n      <td>Life Sciences</td>\n      <td>1</td>\n      <td>4</td>\n      <td>Male</td>\n      <td>...</td>\n      <td>5</td>\n      <td>8</td>\n      <td>7</td>\n      <td>5</td>\n      <td>7.877561</td>\n      <td>Moyenne</td>\n      <td>Excellent</td>\n      <td>Très élevé</td>\n      <td>Très élevé</td>\n      <td>Très satisfaisant</td>\n    </tr>\n    <tr>\n      <th>4</th>\n      <td>32</td>\n      <td>No</td>\n      <td>Travel_Rarely</td>\n      <td>Research &amp; Development</td>\n      <td>10</td>\n      <td>BAC</td>\n      <td>Medical</td>\n      <td>1</td>\n      <td>5</td>\n      <td>Male</td>\n      <td>...</td>\n      <td>2</td>\n      <td>6</td>\n      <td>0</td>\n      <td>4</td>\n      <td>10.275802</td>\n      <td>Importante</td>\n      <td>Excellent</td>\n      <td>Très élevé</td>\n      <td>Faible</td>\n      <td>Très satisfaisant</td>\n    </tr>\n    <tr>\n      <th>...</th>\n      <td>...</td>\n      <td>...</td>\n      <td>...</td>\n      <td>...</td>\n      <td>...</td>\n      <td>...</td>\n      <td>...</td>\n      <td>...</td>\n      <td>...</td>\n      <td>...</td>\n      <td>...</td>\n      <td>...</td>\n      <td>...</td>\n      <td>...</td>\n      <td>...</td>\n      <td>...</td>\n      <td>...</td>\n      <td>...</td>\n      <td>...</td>\n      <td>...</td>\n      <td>...</td>\n    </tr>\n    <tr>\n      <th>4404</th>\n      <td>29</td>\n      <td>No</td>\n      <td>Travel_Rarely</td>\n      <td>Sales</td>\n      <td>4</td>\n      <td>BAC+3</td>\n      <td>Other</td>\n      <td>1</td>\n      <td>4405</td>\n      <td>Female</td>\n      <td>...</td>\n      <td>2</td>\n      <td>6</td>\n      <td>1</td>\n      <td>5</td>\n      <td>8.316921</td>\n      <td>Moyenne</td>\n      <td>Excellent</td>\n      <td>Élevé</td>\n      <td>Très élevé</td>\n      <td>Très satisfaisant</td>\n    </tr>\n    <tr>\n      <th>4405</th>\n      <td>42</td>\n      <td>No</td>\n      <td>Travel_Rarely</td>\n      <td>Research &amp; Development</td>\n      <td>5</td>\n      <td>BAC+5</td>\n      <td>Medical</td>\n      <td>1</td>\n      <td>4406</td>\n      <td>Female</td>\n      <td>...</td>\n      <td>5</td>\n      <td>3</td>\n      <td>0</td>\n      <td>2</td>\n      <td>5.897197</td>\n      <td>Importante</td>\n      <td>Excellent</td>\n      <td>Très élevé</td>\n      <td>Faible</td>\n      <td>Très satisfaisant</td>\n    </tr>\n    <tr>\n      <th>4406</th>\n      <td>29</td>\n      <td>No</td>\n      <td>Travel_Rarely</td>\n      <td>Research &amp; Development</td>\n      <td>2</td>\n      <td>BAC+5</td>\n      <td>Medical</td>\n      <td>1</td>\n      <td>4407</td>\n      <td>Male</td>\n      <td>...</td>\n      <td>2</td>\n      <td>3</td>\n      <td>0</td>\n      <td>2</td>\n      <td>7.149526</td>\n      <td>Moyenne</td>\n      <td>Excellent</td>\n      <td>Très élevé</td>\n      <td>Très élevé</td>\n      <td>Très satisfaisant</td>\n    </tr>\n    <tr>\n      <th>4407</th>\n      <td>25</td>\n      <td>No</td>\n      <td>Travel_Rarely</td>\n      <td>Research &amp; Development</td>\n      <td>25</td>\n      <td>BAC+2</td>\n      <td>Life Sciences</td>\n      <td>1</td>\n      <td>4408</td>\n      <td>Male</td>\n      <td>...</td>\n      <td>4</td>\n      <td>4</td>\n      <td>1</td>\n      <td>2</td>\n      <td>9.187612</td>\n      <td>Importante</td>\n      <td>Au delà des attentes</td>\n      <td>Faible</td>\n      <td>Élevé</td>\n      <td>Très satisfaisant</td>\n    </tr>\n    <tr>\n      <th>4408</th>\n      <td>42</td>\n      <td>No</td>\n      <td>Travel_Rarely</td>\n      <td>Sales</td>\n      <td>18</td>\n      <td>BAC+2</td>\n      <td>Medical</td>\n      <td>1</td>\n      <td>4409</td>\n      <td>Male</td>\n      <td>...</td>\n      <td>2</td>\n      <td>9</td>\n      <td>7</td>\n      <td>8</td>\n      <td>6.511790</td>\n      <td>Moyenne</td>\n      <td>Excellent</td>\n      <td>Très élevé</td>\n      <td>Faible</td>\n      <td>Très satisfaisant</td>\n    </tr>\n  </tbody>\n</table>\n<p>4409 rows × 30 columns</p>\n</div>"
     },
     "execution_count": 43,
     "metadata": {},
     "output_type": "execute_result"
    }
   ],
   "source": [
    "complete_csv"
   ],
   "metadata": {
    "collapsed": false
   }
  },
  {
   "cell_type": "markdown",
   "source": [
    "# Etape 2 : Analyse des données"
   ],
   "metadata": {
    "collapsed": false
   }
  },
  {
   "cell_type": "code",
   "execution_count": 42,
   "outputs": [],
   "source": [],
   "metadata": {
    "collapsed": false
   }
  }
 ],
 "metadata": {
  "kernelspec": {
   "display_name": "Python 3",
   "language": "python",
   "name": "python3"
  },
  "language_info": {
   "codemirror_mode": {
    "name": "ipython",
    "version": 2
   },
   "file_extension": ".py",
   "mimetype": "text/x-python",
   "name": "python",
   "nbconvert_exporter": "python",
   "pygments_lexer": "ipython2",
   "version": "2.7.6"
  }
 },
 "nbformat": 4,
 "nbformat_minor": 0
}
