{
 "cells": [
  {
   "cell_type": "markdown",
   "source": [
    "# Sujet\n",
    "L'entreprise de produits pharmaceutiques HumanForYou basée en Inde emploie environ 4000 personnes. Cependant, chaque année elle subit un turn-over d'environ 15% de ses employés nécessitant de retrouver des profils similaires sur le marché de l'emploi.\n",
    "La direction trouve que ce niveau de turn-over n'est pas bon pour l'entreprise car :\n",
    "•\tLes projets sur lesquels étaient les employés quittant la société prennent du retard ce qui nuit à la réputation de l'entreprise auprès de ses clients et partenaires.\n",
    "•\tUn service de ressources humaines de taille conséquente doit être conservé car il faut avoir les moyens de trouver les nouvelles recrues.\n",
    "•\tDu temps est perdu à l'arrivée des nouveaux employés car ils doivent très souvent être formés et ont besoin de temps pour devenir pleinement opérationnels dans leur nouvel environnement.\n",
    "Le direction fait donc appel à vous, spécialistes de l'analyse de données, pour déterminer les facteurs ayant le plus d'influence sur ce taux de turn-over et lui proposer des modèles afin d'avoir des pistes d'amélioration pour donner à leurs employés l'envie de rester.\n"
   ],
   "metadata": {
    "collapsed": false
   }
  },
  {
   "cell_type": "markdown",
   "source": [
    "# Etape 1 : Préparation des données"
   ],
   "metadata": {
    "collapsed": false
   }
  },
  {
   "cell_type": "code",
   "execution_count": 16,
   "outputs": [],
   "source": [
    "# Import libraries\n",
    "import pandas as pd, numpy as np, matplotlib.pyplot as plt\n",
    "import warnings\n",
    "warnings.filterwarnings('ignore')"
   ],
   "metadata": {
    "collapsed": false
   }
  },
  {
   "cell_type": "code",
   "execution_count": 17,
   "outputs": [],
   "source": [
    "# Import csv files\n",
    "in_time_csv = pd.read_csv('./Base Data/in_time.csv')\n",
    "out_time_csv = pd.read_csv('./Base Data/out_time.csv')\n",
    "general_data_csv = pd.read_csv('./Base Data/general_data.csv')\n",
    "manager_survey_data_csv = pd.read_csv('./Base Data/manager_survey_data.csv')\n",
    "employee_survey_data_csv = pd.read_csv('./Base Data/employee_survey_data.csv')"
   ],
   "metadata": {
    "collapsed": false
   }
  },
  {
   "cell_type": "markdown",
   "source": [
    "Préparation des données de pointage :\n",
    "- On supprime les valeurs manquantes (NaN) qui correspondent à un non-pointage\n",
    "- On supprime les colonnes composées uniquement de NaN\n",
    "- On transforme les pointages en quantité horaires travaillées"
   ],
   "metadata": {
    "collapsed": false
   }
  },
  {
   "cell_type": "code",
   "execution_count": 18,
   "outputs": [
    {
     "data": {
      "text/plain": "(4410, 262)"
     },
     "execution_count": 18,
     "metadata": {},
     "output_type": "execute_result"
    }
   ],
   "source": [
    "# Process in and out times\n",
    "in_time_csv.shape\n",
    "#in_time_csv.head"
   ],
   "metadata": {
    "collapsed": false
   }
  },
  {
   "cell_type": "code",
   "execution_count": 19,
   "outputs": [
    {
     "data": {
      "text/plain": "      EmployeeID       hrs\n0              0  6.870229\n1              1  7.315971\n2              2  6.816081\n3              3  6.789215\n4              4  7.877561\n...          ...       ...\n4405        4405  8.316921\n4406        4406  5.897197\n4407        4407  7.149526\n4408        4408  9.187612\n4409        4409  6.511790\n\n[4410 rows x 2 columns]",
      "text/html": "<div>\n<style scoped>\n    .dataframe tbody tr th:only-of-type {\n        vertical-align: middle;\n    }\n\n    .dataframe tbody tr th {\n        vertical-align: top;\n    }\n\n    .dataframe thead th {\n        text-align: right;\n    }\n</style>\n<table border=\"1\" class=\"dataframe\">\n  <thead>\n    <tr style=\"text-align: right;\">\n      <th></th>\n      <th>EmployeeID</th>\n      <th>hrs</th>\n    </tr>\n  </thead>\n  <tbody>\n    <tr>\n      <th>0</th>\n      <td>0</td>\n      <td>6.870229</td>\n    </tr>\n    <tr>\n      <th>1</th>\n      <td>1</td>\n      <td>7.315971</td>\n    </tr>\n    <tr>\n      <th>2</th>\n      <td>2</td>\n      <td>6.816081</td>\n    </tr>\n    <tr>\n      <th>3</th>\n      <td>3</td>\n      <td>6.789215</td>\n    </tr>\n    <tr>\n      <th>4</th>\n      <td>4</td>\n      <td>7.877561</td>\n    </tr>\n    <tr>\n      <th>...</th>\n      <td>...</td>\n      <td>...</td>\n    </tr>\n    <tr>\n      <th>4405</th>\n      <td>4405</td>\n      <td>8.316921</td>\n    </tr>\n    <tr>\n      <th>4406</th>\n      <td>4406</td>\n      <td>5.897197</td>\n    </tr>\n    <tr>\n      <th>4407</th>\n      <td>4407</td>\n      <td>7.149526</td>\n    </tr>\n    <tr>\n      <th>4408</th>\n      <td>4408</td>\n      <td>9.187612</td>\n    </tr>\n    <tr>\n      <th>4409</th>\n      <td>4409</td>\n      <td>6.511790</td>\n    </tr>\n  </tbody>\n</table>\n<p>4410 rows × 2 columns</p>\n</div>"
     },
     "execution_count": 19,
     "metadata": {},
     "output_type": "execute_result"
    }
   ],
   "source": [
    "# Append the two csv files, convert all fields except the header and the first two columns to pandas datetime\n",
    "total_time_csv = in_time_csv.append(out_time_csv, ignore_index=True)\n",
    "total_time_csv = total_time_csv.replace(np.nan, 0)\n",
    "total_time_csv.iloc[:, 1:] = total_time_csv.iloc[:, 1:].apply(pd.to_datetime, errors='coerce')\n",
    "total_time_csv = total_time_csv.diff(periods=4410, axis=0)\n",
    "total_time_csv = total_time_csv.iloc[4410:]\n",
    "total_time_csv.reset_index(inplace=True)\n",
    "total_time_csv.drop(columns=['Unnamed: 0', '2015-01-01', '2015-01-14','2015-01-26','2015-03-05',\n",
    "             '2015-05-01','2015-07-17','2015-09-17','2015-10-02',\n",
    "              '2015-11-09','2015-11-10','2015-11-11','2015-12-25', 'index'\n",
    "             ],axis=1,inplace=True)\n",
    "total_time_csv['Mean Time']=total_time_csv.mean(axis=1)\n",
    "total_time_csv['hrs']=total_time_csv['Mean Time']/np.timedelta64(1, 'h')\n",
    "total_time_csv.reset_index(inplace=True)\n",
    "total_time_csv.drop(total_time_csv.columns.difference(['index','hrs']), 1, inplace=True)\n",
    "total_time_csv.rename(columns={'index': 'EmployeeID'},inplace=True)\n",
    "\n",
    "total_time_csv"
   ],
   "metadata": {
    "collapsed": false
   }
  },
  {
   "cell_type": "code",
   "execution_count": 20,
   "outputs": [
    {
     "data": {
      "text/plain": "      Age Attrition     BusinessTravel              Department  \\\n0      51        No      Travel_Rarely                   Sales   \n1      31       Yes  Travel_Frequently  Research & Development   \n2      32        No  Travel_Frequently  Research & Development   \n3      38        No         Non-Travel  Research & Development   \n4      32        No      Travel_Rarely  Research & Development   \n...   ...       ...                ...                     ...   \n4404   29        No      Travel_Rarely                   Sales   \n4405   42        No      Travel_Rarely  Research & Development   \n4406   29        No      Travel_Rarely  Research & Development   \n4407   25        No      Travel_Rarely  Research & Development   \n4408   42        No      Travel_Rarely                   Sales   \n\n      DistanceFromHome  Education EducationField  EmployeeCount  EmployeeID  \\\n0                    6          2  Life Sciences              1           1   \n1                   10          1  Life Sciences              1           2   \n2                   17          4          Other              1           3   \n3                    2          5  Life Sciences              1           4   \n4                   10          1        Medical              1           5   \n...                ...        ...            ...            ...         ...   \n4404                 4          3          Other              1        4405   \n4405                 5          4        Medical              1        4406   \n4406                 2          4        Medical              1        4407   \n4407                25          2  Life Sciences              1        4408   \n4408                18          2        Medical              1        4409   \n\n      Gender  ...  TrainingTimesLastYear YearsAtCompany  \\\n0     Female  ...                      6              1   \n1     Female  ...                      3              5   \n2       Male  ...                      2              5   \n3       Male  ...                      5              8   \n4       Male  ...                      2              6   \n...      ...  ...                    ...            ...   \n4404  Female  ...                      2              6   \n4405  Female  ...                      5              3   \n4406    Male  ...                      2              3   \n4407    Male  ...                      4              4   \n4408    Male  ...                      2              9   \n\n     YearsSinceLastPromotion  YearsWithCurrManager        hrs JobInvolvement  \\\n0                          0                     0   7.315971              3   \n1                          1                     4   6.816081              2   \n2                          0                     3   6.789215              3   \n3                          7                     5   7.877561              2   \n4                          0                     4  10.275802              3   \n...                      ...                   ...        ...            ...   \n4404                       1                     5   8.316921              2   \n4405                       0                     2   5.897197              3   \n4406                       0                     2   7.149526              2   \n4407                       1                     2   9.187612              3   \n4408                       7                     8   6.511790              2   \n\n      PerformanceRating  EnvironmentSatisfaction  JobSatisfaction  \\\n0                     3                      3.0              4.0   \n1                     4                      3.0              2.0   \n2                     3                      2.0              2.0   \n3                     3                      4.0              4.0   \n4                     3                      4.0              1.0   \n...                 ...                      ...              ...   \n4404                  3                      3.0              4.0   \n4405                  3                      4.0              1.0   \n4406                  3                      4.0              4.0   \n4407                  4                      1.0              3.0   \n4408                  3                      4.0              1.0   \n\n      WorkLifeBalance  \n0                 2.0  \n1                 4.0  \n2                 1.0  \n3                 3.0  \n4                 3.0  \n...               ...  \n4404              3.0  \n4405              3.0  \n4406              3.0  \n4407              3.0  \n4408              3.0  \n\n[4409 rows x 30 columns]",
      "text/html": "<div>\n<style scoped>\n    .dataframe tbody tr th:only-of-type {\n        vertical-align: middle;\n    }\n\n    .dataframe tbody tr th {\n        vertical-align: top;\n    }\n\n    .dataframe thead th {\n        text-align: right;\n    }\n</style>\n<table border=\"1\" class=\"dataframe\">\n  <thead>\n    <tr style=\"text-align: right;\">\n      <th></th>\n      <th>Age</th>\n      <th>Attrition</th>\n      <th>BusinessTravel</th>\n      <th>Department</th>\n      <th>DistanceFromHome</th>\n      <th>Education</th>\n      <th>EducationField</th>\n      <th>EmployeeCount</th>\n      <th>EmployeeID</th>\n      <th>Gender</th>\n      <th>...</th>\n      <th>TrainingTimesLastYear</th>\n      <th>YearsAtCompany</th>\n      <th>YearsSinceLastPromotion</th>\n      <th>YearsWithCurrManager</th>\n      <th>hrs</th>\n      <th>JobInvolvement</th>\n      <th>PerformanceRating</th>\n      <th>EnvironmentSatisfaction</th>\n      <th>JobSatisfaction</th>\n      <th>WorkLifeBalance</th>\n    </tr>\n  </thead>\n  <tbody>\n    <tr>\n      <th>0</th>\n      <td>51</td>\n      <td>No</td>\n      <td>Travel_Rarely</td>\n      <td>Sales</td>\n      <td>6</td>\n      <td>2</td>\n      <td>Life Sciences</td>\n      <td>1</td>\n      <td>1</td>\n      <td>Female</td>\n      <td>...</td>\n      <td>6</td>\n      <td>1</td>\n      <td>0</td>\n      <td>0</td>\n      <td>7.315971</td>\n      <td>3</td>\n      <td>3</td>\n      <td>3.0</td>\n      <td>4.0</td>\n      <td>2.0</td>\n    </tr>\n    <tr>\n      <th>1</th>\n      <td>31</td>\n      <td>Yes</td>\n      <td>Travel_Frequently</td>\n      <td>Research &amp; Development</td>\n      <td>10</td>\n      <td>1</td>\n      <td>Life Sciences</td>\n      <td>1</td>\n      <td>2</td>\n      <td>Female</td>\n      <td>...</td>\n      <td>3</td>\n      <td>5</td>\n      <td>1</td>\n      <td>4</td>\n      <td>6.816081</td>\n      <td>2</td>\n      <td>4</td>\n      <td>3.0</td>\n      <td>2.0</td>\n      <td>4.0</td>\n    </tr>\n    <tr>\n      <th>2</th>\n      <td>32</td>\n      <td>No</td>\n      <td>Travel_Frequently</td>\n      <td>Research &amp; Development</td>\n      <td>17</td>\n      <td>4</td>\n      <td>Other</td>\n      <td>1</td>\n      <td>3</td>\n      <td>Male</td>\n      <td>...</td>\n      <td>2</td>\n      <td>5</td>\n      <td>0</td>\n      <td>3</td>\n      <td>6.789215</td>\n      <td>3</td>\n      <td>3</td>\n      <td>2.0</td>\n      <td>2.0</td>\n      <td>1.0</td>\n    </tr>\n    <tr>\n      <th>3</th>\n      <td>38</td>\n      <td>No</td>\n      <td>Non-Travel</td>\n      <td>Research &amp; Development</td>\n      <td>2</td>\n      <td>5</td>\n      <td>Life Sciences</td>\n      <td>1</td>\n      <td>4</td>\n      <td>Male</td>\n      <td>...</td>\n      <td>5</td>\n      <td>8</td>\n      <td>7</td>\n      <td>5</td>\n      <td>7.877561</td>\n      <td>2</td>\n      <td>3</td>\n      <td>4.0</td>\n      <td>4.0</td>\n      <td>3.0</td>\n    </tr>\n    <tr>\n      <th>4</th>\n      <td>32</td>\n      <td>No</td>\n      <td>Travel_Rarely</td>\n      <td>Research &amp; Development</td>\n      <td>10</td>\n      <td>1</td>\n      <td>Medical</td>\n      <td>1</td>\n      <td>5</td>\n      <td>Male</td>\n      <td>...</td>\n      <td>2</td>\n      <td>6</td>\n      <td>0</td>\n      <td>4</td>\n      <td>10.275802</td>\n      <td>3</td>\n      <td>3</td>\n      <td>4.0</td>\n      <td>1.0</td>\n      <td>3.0</td>\n    </tr>\n    <tr>\n      <th>...</th>\n      <td>...</td>\n      <td>...</td>\n      <td>...</td>\n      <td>...</td>\n      <td>...</td>\n      <td>...</td>\n      <td>...</td>\n      <td>...</td>\n      <td>...</td>\n      <td>...</td>\n      <td>...</td>\n      <td>...</td>\n      <td>...</td>\n      <td>...</td>\n      <td>...</td>\n      <td>...</td>\n      <td>...</td>\n      <td>...</td>\n      <td>...</td>\n      <td>...</td>\n      <td>...</td>\n    </tr>\n    <tr>\n      <th>4404</th>\n      <td>29</td>\n      <td>No</td>\n      <td>Travel_Rarely</td>\n      <td>Sales</td>\n      <td>4</td>\n      <td>3</td>\n      <td>Other</td>\n      <td>1</td>\n      <td>4405</td>\n      <td>Female</td>\n      <td>...</td>\n      <td>2</td>\n      <td>6</td>\n      <td>1</td>\n      <td>5</td>\n      <td>8.316921</td>\n      <td>2</td>\n      <td>3</td>\n      <td>3.0</td>\n      <td>4.0</td>\n      <td>3.0</td>\n    </tr>\n    <tr>\n      <th>4405</th>\n      <td>42</td>\n      <td>No</td>\n      <td>Travel_Rarely</td>\n      <td>Research &amp; Development</td>\n      <td>5</td>\n      <td>4</td>\n      <td>Medical</td>\n      <td>1</td>\n      <td>4406</td>\n      <td>Female</td>\n      <td>...</td>\n      <td>5</td>\n      <td>3</td>\n      <td>0</td>\n      <td>2</td>\n      <td>5.897197</td>\n      <td>3</td>\n      <td>3</td>\n      <td>4.0</td>\n      <td>1.0</td>\n      <td>3.0</td>\n    </tr>\n    <tr>\n      <th>4406</th>\n      <td>29</td>\n      <td>No</td>\n      <td>Travel_Rarely</td>\n      <td>Research &amp; Development</td>\n      <td>2</td>\n      <td>4</td>\n      <td>Medical</td>\n      <td>1</td>\n      <td>4407</td>\n      <td>Male</td>\n      <td>...</td>\n      <td>2</td>\n      <td>3</td>\n      <td>0</td>\n      <td>2</td>\n      <td>7.149526</td>\n      <td>2</td>\n      <td>3</td>\n      <td>4.0</td>\n      <td>4.0</td>\n      <td>3.0</td>\n    </tr>\n    <tr>\n      <th>4407</th>\n      <td>25</td>\n      <td>No</td>\n      <td>Travel_Rarely</td>\n      <td>Research &amp; Development</td>\n      <td>25</td>\n      <td>2</td>\n      <td>Life Sciences</td>\n      <td>1</td>\n      <td>4408</td>\n      <td>Male</td>\n      <td>...</td>\n      <td>4</td>\n      <td>4</td>\n      <td>1</td>\n      <td>2</td>\n      <td>9.187612</td>\n      <td>3</td>\n      <td>4</td>\n      <td>1.0</td>\n      <td>3.0</td>\n      <td>3.0</td>\n    </tr>\n    <tr>\n      <th>4408</th>\n      <td>42</td>\n      <td>No</td>\n      <td>Travel_Rarely</td>\n      <td>Sales</td>\n      <td>18</td>\n      <td>2</td>\n      <td>Medical</td>\n      <td>1</td>\n      <td>4409</td>\n      <td>Male</td>\n      <td>...</td>\n      <td>2</td>\n      <td>9</td>\n      <td>7</td>\n      <td>8</td>\n      <td>6.511790</td>\n      <td>2</td>\n      <td>3</td>\n      <td>4.0</td>\n      <td>1.0</td>\n      <td>3.0</td>\n    </tr>\n  </tbody>\n</table>\n<p>4409 rows × 30 columns</p>\n</div>"
     },
     "execution_count": 20,
     "metadata": {},
     "output_type": "execute_result"
    }
   ],
   "source": [
    "# Merge the multiple csv files\n",
    "complete_csv = pd.merge(general_data_csv, total_time_csv, on='EmployeeID', how='inner')\n",
    "complete_csv = pd.merge(complete_csv, manager_survey_data_csv, on='EmployeeID', how='inner')\n",
    "complete_csv = pd.merge(complete_csv, employee_survey_data_csv, on='EmployeeID', how='inner')\n",
    "complete_csv"
   ],
   "metadata": {
    "collapsed": false
   }
  }
 ],
 "metadata": {
  "kernelspec": {
   "display_name": "Python 3",
   "language": "python",
   "name": "python3"
  },
  "language_info": {
   "codemirror_mode": {
    "name": "ipython",
    "version": 2
   },
   "file_extension": ".py",
   "mimetype": "text/x-python",
   "name": "python",
   "nbconvert_exporter": "python",
   "pygments_lexer": "ipython2",
   "version": "2.7.6"
  }
 },
 "nbformat": 4,
 "nbformat_minor": 0
}
